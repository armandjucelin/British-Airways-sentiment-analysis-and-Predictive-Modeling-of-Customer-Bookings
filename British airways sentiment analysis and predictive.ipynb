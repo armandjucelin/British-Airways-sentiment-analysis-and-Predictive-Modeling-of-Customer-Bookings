{
 "cells": [
  {
   "cell_type": "markdown",
   "id": "95487717",
   "metadata": {},
   "source": [
    "# <center><font color='Blue' face='comic sans ms'> British Airways sentiment analysis and Predictive Modeling  Of  Customer Bookings </font></center> "
   ]
  },
  {
   "cell_type": "markdown",
   "id": "13e23374",
   "metadata": {},
   "source": [
    "<font color = 'brawn'> Name: </font> Toukap Fotso Jucelin Armand\n",
    "\n",
    "<font color = 'brawn'> Mail: </font> armandtoukap4@gmail.com\n",
    "\n",
    "<font color = 'brawn'> Batch: </font>DST 20823\n",
    "\n",
    "<font color = 'brawn'> Starting date: </font> September 2023"
   ]
  },
  {
   "cell_type": "markdown",
   "id": "596e8def",
   "metadata": {},
   "source": [
    "<b>Problem on Hand: </b> British Airways (BA) is the flag carrier airline of the United Kingdom (UK). Every day, thousands of BA flights arrive to and depart from the UK, carrying customers across the world. Whether it’s for holidays, work or any other reason, the end-to-end process of scheduling, planning, boarding, fuelling, transporting, landing, and continuously running flights on time, efficiently and with top-class customer service is a huge task with many highly important responsibilities.\n",
    "our goal consist of applying analytical skills to influence real life multi-million-pound decisions from day one, making a tangible impact on the business as your recommendations, tools and models drive key business decisions, reduce costs and increase revenue</b>\n",
    "\n",
    "# Outline\n",
    "1. web scaping\n",
    "2. analyse data\n",
    "3. explore and prepare the data\n",
    "4. Model Building\n",
    "5. Model Evaluation"
   ]
  },
  {
   "cell_type": "code",
   "execution_count": 1,
   "id": "8ae627c6",
   "metadata": {},
   "outputs": [],
   "source": [
    "# Import Libraries for Analysis\n",
    "import numpy as np\n",
    "import pandas as pd\n",
    "\n",
    "# Import Libraries for visualization\n",
    "import matplotlib.pyplot as plt\n",
    "import seaborn as sns\n",
    "\n",
    "#import libraries for preprocessing\n",
    "import nltk\n",
    "import re\n",
    "import string\n",
    "from nltk.corpus import stopwords\n",
    "from nltk.stem.porter import PorterStemmer\n",
    "\n",
    "# import libraries for web scrapping\n",
    "import requests\n",
    "from bs4 import BeautifulSoup\n",
    "\n",
    "#import libraries for sentment analysis\n",
    "from nltk.sentiment import vader\n",
    "import requests\n",
    "from collections import Counter\n",
    "from wordcloud import WordCloud\n",
    "\n",
    "\n",
    "# Import libraries for train test split\n",
    "from sklearn.model_selection import train_test_split\n",
    "\n",
    "import warnings\n",
    "warnings.filterwarnings('ignore')\n",
    "%matplotlib inline"
   ]
  },
  {
   "cell_type": "markdown",
   "id": "ea91ab63",
   "metadata": {},
   "source": [
    "## <font color='Indigo' face='Cursive'> web scraping </font>"
   ]
  },
  {
   "cell_type": "markdown",
   "id": "ce15b9ce",
   "metadata": {},
   "source": [
    "Our data is found in the following website sing the link: [https://www.airlinequality.com/airline-reviews/british-airways]. Now, we can use `Python` and `BeautifulSoup` to collect all the links to the reviews and then to collect the text data on each of the individual review links.\n",
    "\n",
    "\n"
   ]
  },
  {
   "cell_type": "code",
   "execution_count": 2,
   "id": "286d8620",
   "metadata": {},
   "outputs": [
    {
     "name": "stdout",
     "output_type": "stream",
     "text": [
      "Scraping page 1\n",
      "   ---> 100 total reviews\n",
      "Scraping page 2\n",
      "   ---> 200 total reviews\n",
      "Scraping page 3\n",
      "   ---> 300 total reviews\n",
      "Scraping page 4\n",
      "   ---> 400 total reviews\n",
      "Scraping page 5\n",
      "   ---> 500 total reviews\n",
      "Scraping page 6\n",
      "   ---> 600 total reviews\n",
      "Scraping page 7\n",
      "   ---> 700 total reviews\n",
      "Scraping page 8\n",
      "   ---> 800 total reviews\n",
      "Scraping page 9\n",
      "   ---> 900 total reviews\n",
      "Scraping page 10\n",
      "   ---> 1000 total reviews\n"
     ]
    }
   ],
   "source": [
    "\n",
    "base_url = \"https://www.airlinequality.com/airline-reviews/british-airways\"\n",
    "pages = 10\n",
    "page_size = 100\n",
    "\n",
    "reviews = []\n",
    "\n",
    "# for i in range(1, pages + 1):\n",
    "for i in range(1, pages + 1):\n",
    "\n",
    "    print(f\"Scraping page {i}\")\n",
    "\n",
    "    # Create URL to collect links from paginated data\n",
    "    url = f\"{base_url}/page/{i}/?sortby=post_date%3ADesc&pagesize={page_size}\"\n",
    "\n",
    "    # Collect HTML data from this page\n",
    "    response = requests.get(url)\n",
    "\n",
    "    # Parse content\n",
    "    content = response.content\n",
    "    parsed_content = BeautifulSoup(content, 'html.parser')\n",
    "    for para in parsed_content.find_all(\"div\", {\"class\": \"text_content\"}):\n",
    "        reviews.append(para.get_text())\n",
    "    \n",
    "    print(f\"   ---> {len(reviews)} total reviews\")\n",
    "\n"
   ]
  },
  {
   "cell_type": "code",
   "execution_count": 3,
   "id": "ff94b710",
   "metadata": {},
   "outputs": [
    {
     "data": {
      "text/html": [
       "<div>\n",
       "<style scoped>\n",
       "    .dataframe tbody tr th:only-of-type {\n",
       "        vertical-align: middle;\n",
       "    }\n",
       "\n",
       "    .dataframe tbody tr th {\n",
       "        vertical-align: top;\n",
       "    }\n",
       "\n",
       "    .dataframe thead th {\n",
       "        text-align: right;\n",
       "    }\n",
       "</style>\n",
       "<table border=\"1\" class=\"dataframe\">\n",
       "  <thead>\n",
       "    <tr style=\"text-align: right;\">\n",
       "      <th></th>\n",
       "      <th>reviews</th>\n",
       "    </tr>\n",
       "  </thead>\n",
       "  <tbody>\n",
       "    <tr>\n",
       "      <th>0</th>\n",
       "      <td>✅ Trip Verified |  My son and I flew to Geneva...</td>\n",
       "    </tr>\n",
       "    <tr>\n",
       "      <th>1</th>\n",
       "      <td>✅ Trip Verified |  For the price paid (bought ...</td>\n",
       "    </tr>\n",
       "    <tr>\n",
       "      <th>2</th>\n",
       "      <td>✅ Trip Verified |  Flight left on time and arr...</td>\n",
       "    </tr>\n",
       "    <tr>\n",
       "      <th>3</th>\n",
       "      <td>✅ Trip Verified |  Very Poor Business class pr...</td>\n",
       "    </tr>\n",
       "    <tr>\n",
       "      <th>4</th>\n",
       "      <td>Not Verified | This review is for LHR-SYD-LHR....</td>\n",
       "    </tr>\n",
       "  </tbody>\n",
       "</table>\n",
       "</div>"
      ],
      "text/plain": [
       "                                             reviews\n",
       "0  ✅ Trip Verified |  My son and I flew to Geneva...\n",
       "1  ✅ Trip Verified |  For the price paid (bought ...\n",
       "2  ✅ Trip Verified |  Flight left on time and arr...\n",
       "3  ✅ Trip Verified |  Very Poor Business class pr...\n",
       "4  Not Verified | This review is for LHR-SYD-LHR...."
      ]
     },
     "execution_count": 3,
     "metadata": {},
     "output_type": "execute_result"
    }
   ],
   "source": [
    "df = pd.DataFrame()\n",
    "df[\"reviews\"] = reviews\n",
    "df.head()\n"
   ]
  },
  {
   "cell_type": "markdown",
   "id": "716c124e",
   "metadata": {},
   "source": [
    "<font color = 'Magenta'> result: </font>\n",
    "The loops above collected 1000 reviews by iterating through the paginated pages on the website. However, if we want to collect more data, we need to increase  the number of pages!\n",
    "\n",
    " The next thing that you should do is clean this data to remove any unnecessary text from each of the rows. For example, \"✅ Trip Verified\" can be removed from each row if it exists, as it's not relevant to what we want to investigate.\n"
   ]
  },
  {
   "cell_type": "markdown",
   "id": "58fc3374",
   "metadata": {},
   "source": [
    "## <font color='Indigo' face='Cursive'> data analysis </font> \n",
    "\n",
    "#### <font color='Red' face='Cursive'> insights </font>\n",
    "This Jupyter notebook includes some code to generate insights on what we learnt from the data. We will use a package called `NLTK` to perform sentiment analysis.\n",
    "\n",
    "#### <font color='Red' face='Cursive'> Graphs and plots </font>\n",
    "We will then use a package called `matplotlib` to perform plot charts and graphs"
   ]
  },
  {
   "cell_type": "code",
   "execution_count": 4,
   "id": "4932d770",
   "metadata": {},
   "outputs": [
    {
     "data": {
      "text/html": [
       "<div>\n",
       "<style scoped>\n",
       "    .dataframe tbody tr th:only-of-type {\n",
       "        vertical-align: middle;\n",
       "    }\n",
       "\n",
       "    .dataframe tbody tr th {\n",
       "        vertical-align: top;\n",
       "    }\n",
       "\n",
       "    .dataframe thead th {\n",
       "        text-align: right;\n",
       "    }\n",
       "</style>\n",
       "<table border=\"1\" class=\"dataframe\">\n",
       "  <thead>\n",
       "    <tr style=\"text-align: right;\">\n",
       "      <th></th>\n",
       "      <th>Unnamed: 0</th>\n",
       "      <th>reviews</th>\n",
       "    </tr>\n",
       "  </thead>\n",
       "  <tbody>\n",
       "    <tr>\n",
       "      <th>0</th>\n",
       "      <td>0</td>\n",
       "      <td>✅ Trip Verified |  British Airways has a total...</td>\n",
       "    </tr>\n",
       "    <tr>\n",
       "      <th>1</th>\n",
       "      <td>1</td>\n",
       "      <td>✅ Trip Verified | London Heathrow to Keflavik,...</td>\n",
       "    </tr>\n",
       "    <tr>\n",
       "      <th>2</th>\n",
       "      <td>2</td>\n",
       "      <td>✅ Trip Verified | Mumbai to London Heathrow in...</td>\n",
       "    </tr>\n",
       "    <tr>\n",
       "      <th>3</th>\n",
       "      <td>3</td>\n",
       "      <td>✅ Trip Verified |  Care and support shocking. ...</td>\n",
       "    </tr>\n",
       "    <tr>\n",
       "      <th>4</th>\n",
       "      <td>4</td>\n",
       "      <td>✅ Trip Verified |  Flying A380 business class ...</td>\n",
       "    </tr>\n",
       "  </tbody>\n",
       "</table>\n",
       "</div>"
      ],
      "text/plain": [
       "   Unnamed: 0                                            reviews\n",
       "0           0  ✅ Trip Verified |  British Airways has a total...\n",
       "1           1  ✅ Trip Verified | London Heathrow to Keflavik,...\n",
       "2           2  ✅ Trip Verified | Mumbai to London Heathrow in...\n",
       "3           3  ✅ Trip Verified |  Care and support shocking. ...\n",
       "4           4  ✅ Trip Verified |  Flying A380 business class ..."
      ]
     },
     "execution_count": 4,
     "metadata": {},
     "output_type": "execute_result"
    }
   ],
   "source": [
    "# Read in the reviews data from a CSV file\n",
    "sentiment_analysis_df = pd.read_csv(\"BA_reviews.csv\")\n",
    "sentiment_analysis_df.head()"
   ]
  },
  {
   "cell_type": "code",
   "execution_count": 5,
   "id": "45f19f65",
   "metadata": {},
   "outputs": [
    {
     "data": {
      "text/html": [
       "<div>\n",
       "<style scoped>\n",
       "    .dataframe tbody tr th:only-of-type {\n",
       "        vertical-align: middle;\n",
       "    }\n",
       "\n",
       "    .dataframe tbody tr th {\n",
       "        vertical-align: top;\n",
       "    }\n",
       "\n",
       "    .dataframe thead th {\n",
       "        text-align: right;\n",
       "    }\n",
       "</style>\n",
       "<table border=\"1\" class=\"dataframe\">\n",
       "  <thead>\n",
       "    <tr style=\"text-align: right;\">\n",
       "      <th></th>\n",
       "      <th>Unnamed: 0</th>\n",
       "      <th>reviews</th>\n",
       "      <th>SENTIMENT</th>\n",
       "    </tr>\n",
       "  </thead>\n",
       "  <tbody>\n",
       "    <tr>\n",
       "      <th>0</th>\n",
       "      <td>0</td>\n",
       "      <td>✅ Trip Verified |  British Airways has a total...</td>\n",
       "      <td>-0.8370</td>\n",
       "    </tr>\n",
       "    <tr>\n",
       "      <th>1</th>\n",
       "      <td>1</td>\n",
       "      <td>✅ Trip Verified | London Heathrow to Keflavik,...</td>\n",
       "      <td>0.7218</td>\n",
       "    </tr>\n",
       "    <tr>\n",
       "      <th>2</th>\n",
       "      <td>2</td>\n",
       "      <td>✅ Trip Verified | Mumbai to London Heathrow in...</td>\n",
       "      <td>0.9698</td>\n",
       "    </tr>\n",
       "    <tr>\n",
       "      <th>3</th>\n",
       "      <td>3</td>\n",
       "      <td>✅ Trip Verified |  Care and support shocking. ...</td>\n",
       "      <td>-0.0752</td>\n",
       "    </tr>\n",
       "    <tr>\n",
       "      <th>4</th>\n",
       "      <td>4</td>\n",
       "      <td>✅ Trip Verified |  Flying A380 business class ...</td>\n",
       "      <td>-0.9475</td>\n",
       "    </tr>\n",
       "  </tbody>\n",
       "</table>\n",
       "</div>"
      ],
      "text/plain": [
       "   Unnamed: 0                                            reviews  SENTIMENT\n",
       "0           0  ✅ Trip Verified |  British Airways has a total...    -0.8370\n",
       "1           1  ✅ Trip Verified | London Heathrow to Keflavik,...     0.7218\n",
       "2           2  ✅ Trip Verified | Mumbai to London Heathrow in...     0.9698\n",
       "3           3  ✅ Trip Verified |  Care and support shocking. ...    -0.0752\n",
       "4           4  ✅ Trip Verified |  Flying A380 business class ...    -0.9475"
      ]
     },
     "execution_count": 5,
     "metadata": {},
     "output_type": "execute_result"
    }
   ],
   "source": [
    "# an instance of SentimentIntensityAnalyzer\n",
    "sentiment_analyzer = vader.SentimentIntensityAnalyzer()\n",
    "\n",
    "# a new column named 'SENTIMENT'\n",
    "sentiment_analysis_df['SENTIMENT'] = sentiment_analysis_df['reviews'].apply(\n",
    "    lambda review: sentiment_analyzer.polarity_scores(review)['compound']\n",
    "    )\n",
    "sentiment_analysis_df.head()"
   ]
  },
  {
   "cell_type": "code",
   "execution_count": 6,
   "id": "2d0983ab",
   "metadata": {},
   "outputs": [
    {
     "data": {
      "text/html": [
       "<div>\n",
       "<style scoped>\n",
       "    .dataframe tbody tr th:only-of-type {\n",
       "        vertical-align: middle;\n",
       "    }\n",
       "\n",
       "    .dataframe tbody tr th {\n",
       "        vertical-align: top;\n",
       "    }\n",
       "\n",
       "    .dataframe thead th {\n",
       "        text-align: right;\n",
       "    }\n",
       "</style>\n",
       "<table border=\"1\" class=\"dataframe\">\n",
       "  <thead>\n",
       "    <tr style=\"text-align: right;\">\n",
       "      <th></th>\n",
       "      <th>Unnamed: 0</th>\n",
       "      <th>reviews</th>\n",
       "      <th>SENTIMENT</th>\n",
       "      <th>SENTIMENT_TYPE</th>\n",
       "    </tr>\n",
       "  </thead>\n",
       "  <tbody>\n",
       "    <tr>\n",
       "      <th>0</th>\n",
       "      <td>0</td>\n",
       "      <td>✅ Trip Verified |  British Airways has a total...</td>\n",
       "      <td>-0.8370</td>\n",
       "      <td>negative</td>\n",
       "    </tr>\n",
       "    <tr>\n",
       "      <th>1</th>\n",
       "      <td>1</td>\n",
       "      <td>✅ Trip Verified | London Heathrow to Keflavik,...</td>\n",
       "      <td>0.7218</td>\n",
       "      <td>positive</td>\n",
       "    </tr>\n",
       "    <tr>\n",
       "      <th>2</th>\n",
       "      <td>2</td>\n",
       "      <td>✅ Trip Verified | Mumbai to London Heathrow in...</td>\n",
       "      <td>0.9698</td>\n",
       "      <td>positive</td>\n",
       "    </tr>\n",
       "    <tr>\n",
       "      <th>3</th>\n",
       "      <td>3</td>\n",
       "      <td>✅ Trip Verified |  Care and support shocking. ...</td>\n",
       "      <td>-0.0752</td>\n",
       "      <td>negative</td>\n",
       "    </tr>\n",
       "    <tr>\n",
       "      <th>4</th>\n",
       "      <td>4</td>\n",
       "      <td>✅ Trip Verified |  Flying A380 business class ...</td>\n",
       "      <td>-0.9475</td>\n",
       "      <td>negative</td>\n",
       "    </tr>\n",
       "    <tr>\n",
       "      <th>...</th>\n",
       "      <td>...</td>\n",
       "      <td>...</td>\n",
       "      <td>...</td>\n",
       "      <td>...</td>\n",
       "    </tr>\n",
       "    <tr>\n",
       "      <th>3638</th>\n",
       "      <td>3638</td>\n",
       "      <td>Flew LHR - VIE return operated by bmi but BA a...</td>\n",
       "      <td>0.9840</td>\n",
       "      <td>positive</td>\n",
       "    </tr>\n",
       "    <tr>\n",
       "      <th>3639</th>\n",
       "      <td>3639</td>\n",
       "      <td>LHR to HAM. Purser addresses all club passenge...</td>\n",
       "      <td>0.8720</td>\n",
       "      <td>positive</td>\n",
       "    </tr>\n",
       "    <tr>\n",
       "      <th>3640</th>\n",
       "      <td>3640</td>\n",
       "      <td>My son who had worked for British Airways urge...</td>\n",
       "      <td>0.4516</td>\n",
       "      <td>positive</td>\n",
       "    </tr>\n",
       "    <tr>\n",
       "      <th>3641</th>\n",
       "      <td>3641</td>\n",
       "      <td>London City-New York JFK via Shannon on A318 b...</td>\n",
       "      <td>0.9148</td>\n",
       "      <td>positive</td>\n",
       "    </tr>\n",
       "    <tr>\n",
       "      <th>3642</th>\n",
       "      <td>3642</td>\n",
       "      <td>SIN-LHR BA12 B747-436 First Class. Old aircraf...</td>\n",
       "      <td>0.8096</td>\n",
       "      <td>positive</td>\n",
       "    </tr>\n",
       "  </tbody>\n",
       "</table>\n",
       "<p>3643 rows × 4 columns</p>\n",
       "</div>"
      ],
      "text/plain": [
       "      Unnamed: 0                                            reviews  \\\n",
       "0              0  ✅ Trip Verified |  British Airways has a total...   \n",
       "1              1  ✅ Trip Verified | London Heathrow to Keflavik,...   \n",
       "2              2  ✅ Trip Verified | Mumbai to London Heathrow in...   \n",
       "3              3  ✅ Trip Verified |  Care and support shocking. ...   \n",
       "4              4  ✅ Trip Verified |  Flying A380 business class ...   \n",
       "...          ...                                                ...   \n",
       "3638        3638  Flew LHR - VIE return operated by bmi but BA a...   \n",
       "3639        3639  LHR to HAM. Purser addresses all club passenge...   \n",
       "3640        3640  My son who had worked for British Airways urge...   \n",
       "3641        3641  London City-New York JFK via Shannon on A318 b...   \n",
       "3642        3642  SIN-LHR BA12 B747-436 First Class. Old aircraf...   \n",
       "\n",
       "      SENTIMENT SENTIMENT_TYPE  \n",
       "0       -0.8370       negative  \n",
       "1        0.7218       positive  \n",
       "2        0.9698       positive  \n",
       "3       -0.0752       negative  \n",
       "4       -0.9475       negative  \n",
       "...         ...            ...  \n",
       "3638     0.9840       positive  \n",
       "3639     0.8720       positive  \n",
       "3640     0.4516       positive  \n",
       "3641     0.9148       positive  \n",
       "3642     0.8096       positive  \n",
       "\n",
       "[3643 rows x 4 columns]"
      ]
     },
     "execution_count": 6,
     "metadata": {},
     "output_type": "execute_result"
    }
   ],
   "source": [
    "# Creating another new column called 'SENTIMENT_TYPE' that contains the type of sentiment of each review using nltk\n",
    "# for each sentiment score in the 'SENTIMENT' column\n",
    "sentiment_analysis_df['SENTIMENT_TYPE'] = sentiment_analysis_df['SENTIMENT'].apply(\n",
    "    lambda score: 'positive' if score > 0 else ('negative' if score < 0 else 'neutral')\n",
    "    )\n",
    "sentiment_analysis_df"
   ]
  },
  {
   "cell_type": "code",
   "execution_count": 7,
   "id": "ba5413e5",
   "metadata": {},
   "outputs": [
    {
     "data": {
      "image/png": "[encoded data removed]",
      "text/plain": [
       "<Figure size 432x288 with 1 Axes>"
      ]
     },
     "metadata": {},
     "output_type": "display_data"
    }
   ],
   "source": [
    "# calculate the percentage of each type of sentiment score\n",
    "sentiment_type_percentages = sentiment_analysis_df['SENTIMENT_TYPE'].value_counts(normalize=True) * 100\n",
    "\n",
    "# create the pie chart\n",
    "fig, ax = plt.subplots()\n",
    "ax.pie(\n",
    "    sentiment_type_percentages,\n",
    "    labels=sentiment_type_percentages.index, \n",
    "    colors=['green', 'red', 'grey'], \n",
    "    explode=[0.1, 0, 0], \n",
    "    autopct='%1.1f%%'\n",
    "    )\n",
    "\n",
    "plt.show()"
   ]
  },
  {
   "cell_type": "markdown",
   "id": "a2cd9b58",
   "metadata": {},
   "source": [
    "<font color = 'Magenta'> result: </font>\n",
    "Out of 2000 reviews, 1096 were positive, 898 were negative and \n",
    "6 were neutral. This means the majority of reviews were \n",
    "polarised as either positive or negative"
   ]
  },
  {
   "cell_type": "code",
   "execution_count": 8,
   "id": "929a0b3c",
   "metadata": {},
   "outputs": [
    {
     "data": {
      "image/png": "[encoded data removed]",
      "text/plain": [
       "<Figure size 432x288 with 1 Axes>"
      ]
     },
     "metadata": {
      "needs_background": "light"
     },
     "output_type": "display_data"
    }
   ],
   "source": [
    "# The frequency chart shows the key topics within the \n",
    "# reviews showing what people are actively talking about their experience and staff\n",
    "\n",
    "# Get the reviews from the dataframe\n",
    "reviews = sentiment_analysis_df['reviews']\n",
    "\n",
    "# Convert the reviews to a list of words\n",
    "words = []\n",
    "for review in reviews:\n",
    "    words.extend(review.split())\n",
    "\n",
    "# Filter out the stubborn stop words that don't want to disappear\n",
    "stopwords = nltk.corpus.stopwords.words('english')\n",
    "key_words = [word for word in words if word not in stopwords and word not in ['I', 'The','would','one','get','-']]\n",
    "\n",
    "# Get the top 20 most used key words\n",
    "word_counts = Counter(key_words)\n",
    "top_20_words = word_counts.most_common(20)\n",
    "\n",
    "# Filter out the stop words \n",
    "filtered_words = [\n",
    "    (word, count) for word, count in top_20_words if word not in stopwords and word not in ['I', 'The','would','one','get','-']\n",
    "    ]\n",
    "\n",
    "# Get the labels and values for the histogram\n",
    "labels, values = zip(*top_20_words)\n",
    "\n",
    "# Create the histogram\n",
    "plt.bar(labels, values)\n",
    "\n",
    "# Set the x-axis labels to be vertical\n",
    "plt.xticks(rotation=90)\n",
    "\n",
    "#Display the plot\n",
    "plt.show()"
   ]
  },
  {
   "cell_type": "markdown",
   "id": "a2fb3555",
   "metadata": {},
   "source": [
    "<font color = 'Magenta'> result: </font>\n",
    "The frequency chart below shows that the key topics within the reviews include “flight”, “London”, “service” and “crew”, showing that \n",
    "people are actively talking about their experience and staff"
   ]
  },
  {
   "cell_type": "code",
   "execution_count": 9,
   "id": "78bb0d4c",
   "metadata": {
    "scrolled": true
   },
   "outputs": [
    {
     "data": {
      "image/png": "[encoded data removed]",
      "text/plain": [
       "<Figure size 432x288 with 1 Axes>"
      ]
     },
     "metadata": {
      "needs_background": "light"
     },
     "output_type": "display_data"
    }
   ],
   "source": [
    "# Import the necessary libraries\n",
    "from wordcloud import WordCloud\n",
    "import matplotlib.pyplot as plt\n",
    "import pandas as pd\n",
    "\n",
    "# Create the wordcloud\n",
    "wordcloud = WordCloud(random_state=42).generate(' '.join(sentiment_analysis_df['reviews']))\n",
    "\n",
    "# Show the word cloud\n",
    "plt.imshow(wordcloud, interpolation= 'bilinear')\n",
    "plt.axis(\"off\")\n",
    "plt.show()"
   ]
  },
  {
   "cell_type": "markdown",
   "id": "f142afcd",
   "metadata": {},
   "source": [
    "<font color = 'Magenta'> result: </font>\n",
    "- The word cloud also showed similar words and key topics within the reviews. This includes “flight”, “BA”, “seat” and “time”. \n",
    "- showing thatpeople are actively talking about their experience and staff\n"
   ]
  },
  {
   "cell_type": "markdown",
   "id": "0edffab5",
   "metadata": {},
   "source": [
    "## <font color='Indigo' face='Cursive'> predictive modeling of customer bookings </font>\n",
    "### <font color='red' face='Cursive'> Exploratory data analysis</font>\n",
    "\n",
    "First, we must explore the data in order to better understand what we have and the statistical properties of the dataset.\n"
   ]
  },
  {
   "cell_type": "code",
   "execution_count": 10,
   "id": "110498ea",
   "metadata": {},
   "outputs": [
    {
     "data": {
      "text/html": [
       "<div>\n",
       "<style scoped>\n",
       "    .dataframe tbody tr th:only-of-type {\n",
       "        vertical-align: middle;\n",
       "    }\n",
       "\n",
       "    .dataframe tbody tr th {\n",
       "        vertical-align: top;\n",
       "    }\n",
       "\n",
       "    .dataframe thead th {\n",
       "        text-align: right;\n",
       "    }\n",
       "</style>\n",
       "<table border=\"1\" class=\"dataframe\">\n",
       "  <thead>\n",
       "    <tr style=\"text-align: right;\">\n",
       "      <th></th>\n",
       "      <th>num_passengers</th>\n",
       "      <th>sales_channel</th>\n",
       "      <th>trip_type</th>\n",
       "      <th>purchase_lead</th>\n",
       "      <th>length_of_stay</th>\n",
       "      <th>flight_hour</th>\n",
       "      <th>flight_day</th>\n",
       "      <th>route</th>\n",
       "      <th>booking_origin</th>\n",
       "      <th>wants_extra_baggage</th>\n",
       "      <th>wants_preferred_seat</th>\n",
       "      <th>wants_in_flight_meals</th>\n",
       "      <th>flight_duration</th>\n",
       "      <th>booking_complete</th>\n",
       "    </tr>\n",
       "  </thead>\n",
       "  <tbody>\n",
       "    <tr>\n",
       "      <th>0</th>\n",
       "      <td>2</td>\n",
       "      <td>Internet</td>\n",
       "      <td>RoundTrip</td>\n",
       "      <td>262</td>\n",
       "      <td>19</td>\n",
       "      <td>7</td>\n",
       "      <td>Sat</td>\n",
       "      <td>AKLDEL</td>\n",
       "      <td>New Zealand</td>\n",
       "      <td>1</td>\n",
       "      <td>0</td>\n",
       "      <td>0</td>\n",
       "      <td>5.52</td>\n",
       "      <td>0</td>\n",
       "    </tr>\n",
       "    <tr>\n",
       "      <th>1</th>\n",
       "      <td>1</td>\n",
       "      <td>Internet</td>\n",
       "      <td>RoundTrip</td>\n",
       "      <td>112</td>\n",
       "      <td>20</td>\n",
       "      <td>3</td>\n",
       "      <td>Sat</td>\n",
       "      <td>AKLDEL</td>\n",
       "      <td>New Zealand</td>\n",
       "      <td>0</td>\n",
       "      <td>0</td>\n",
       "      <td>0</td>\n",
       "      <td>5.52</td>\n",
       "      <td>0</td>\n",
       "    </tr>\n",
       "    <tr>\n",
       "      <th>2</th>\n",
       "      <td>2</td>\n",
       "      <td>Internet</td>\n",
       "      <td>RoundTrip</td>\n",
       "      <td>243</td>\n",
       "      <td>22</td>\n",
       "      <td>17</td>\n",
       "      <td>Wed</td>\n",
       "      <td>AKLDEL</td>\n",
       "      <td>India</td>\n",
       "      <td>1</td>\n",
       "      <td>1</td>\n",
       "      <td>0</td>\n",
       "      <td>5.52</td>\n",
       "      <td>0</td>\n",
       "    </tr>\n",
       "    <tr>\n",
       "      <th>3</th>\n",
       "      <td>1</td>\n",
       "      <td>Internet</td>\n",
       "      <td>RoundTrip</td>\n",
       "      <td>96</td>\n",
       "      <td>31</td>\n",
       "      <td>4</td>\n",
       "      <td>Sat</td>\n",
       "      <td>AKLDEL</td>\n",
       "      <td>New Zealand</td>\n",
       "      <td>0</td>\n",
       "      <td>0</td>\n",
       "      <td>1</td>\n",
       "      <td>5.52</td>\n",
       "      <td>0</td>\n",
       "    </tr>\n",
       "    <tr>\n",
       "      <th>4</th>\n",
       "      <td>2</td>\n",
       "      <td>Internet</td>\n",
       "      <td>RoundTrip</td>\n",
       "      <td>68</td>\n",
       "      <td>22</td>\n",
       "      <td>15</td>\n",
       "      <td>Wed</td>\n",
       "      <td>AKLDEL</td>\n",
       "      <td>India</td>\n",
       "      <td>1</td>\n",
       "      <td>0</td>\n",
       "      <td>1</td>\n",
       "      <td>5.52</td>\n",
       "      <td>0</td>\n",
       "    </tr>\n",
       "  </tbody>\n",
       "</table>\n",
       "</div>"
      ],
      "text/plain": [
       "   num_passengers sales_channel  trip_type  purchase_lead  length_of_stay  \\\n",
       "0               2      Internet  RoundTrip            262              19   \n",
       "1               1      Internet  RoundTrip            112              20   \n",
       "2               2      Internet  RoundTrip            243              22   \n",
       "3               1      Internet  RoundTrip             96              31   \n",
       "4               2      Internet  RoundTrip             68              22   \n",
       "\n",
       "   flight_hour flight_day   route booking_origin  wants_extra_baggage  \\\n",
       "0            7        Sat  AKLDEL    New Zealand                    1   \n",
       "1            3        Sat  AKLDEL    New Zealand                    0   \n",
       "2           17        Wed  AKLDEL          India                    1   \n",
       "3            4        Sat  AKLDEL    New Zealand                    0   \n",
       "4           15        Wed  AKLDEL          India                    1   \n",
       "\n",
       "   wants_preferred_seat  wants_in_flight_meals  flight_duration  \\\n",
       "0                     0                      0             5.52   \n",
       "1                     0                      0             5.52   \n",
       "2                     1                      0             5.52   \n",
       "3                     0                      1             5.52   \n",
       "4                     0                      1             5.52   \n",
       "\n",
       "   booking_complete  \n",
       "0                 0  \n",
       "1                 0  \n",
       "2                 0  \n",
       "3                 0  \n",
       "4                 0  "
      ]
     },
     "execution_count": 10,
     "metadata": {},
     "output_type": "execute_result"
    }
   ],
   "source": [
    "df = pd.read_csv(\"customer_booking.csv\", encoding=\"ISO-8859-1\")\n",
    "df.head()"
   ]
  },
  {
   "cell_type": "markdown",
   "id": "9756b4f3",
   "metadata": {},
   "source": [
    "<font color = 'Magenta'> result: </font>\n",
    "The `.head()` method allows us to view the first 5 rows in the dataset, this is useful for visual inspection of our columns"
   ]
  },
  {
   "cell_type": "code",
   "execution_count": 11,
   "id": "b2c6085c",
   "metadata": {},
   "outputs": [
    {
     "name": "stdout",
     "output_type": "stream",
     "text": [
      "<class 'pandas.core.frame.DataFrame'>\n",
      "RangeIndex: 50000 entries, 0 to 49999\n",
      "Data columns (total 14 columns):\n",
      " #   Column                 Non-Null Count  Dtype  \n",
      "---  ------                 --------------  -----  \n",
      " 0   num_passengers         50000 non-null  int64  \n",
      " 1   sales_channel          50000 non-null  object \n",
      " 2   trip_type              50000 non-null  object \n",
      " 3   purchase_lead          50000 non-null  int64  \n",
      " 4   length_of_stay         50000 non-null  int64  \n",
      " 5   flight_hour            50000 non-null  int64  \n",
      " 6   flight_day             50000 non-null  object \n",
      " 7   route                  50000 non-null  object \n",
      " 8   booking_origin         50000 non-null  object \n",
      " 9   wants_extra_baggage    50000 non-null  int64  \n",
      " 10  wants_preferred_seat   50000 non-null  int64  \n",
      " 11  wants_in_flight_meals  50000 non-null  int64  \n",
      " 12  flight_duration        50000 non-null  float64\n",
      " 13  booking_complete       50000 non-null  int64  \n",
      "dtypes: float64(1), int64(8), object(5)\n",
      "memory usage: 5.3+ MB\n"
     ]
    }
   ],
   "source": [
    "df.info()"
   ]
  },
  {
   "cell_type": "markdown",
   "id": "6a1fcfa4",
   "metadata": {},
   "source": [
    "<font color = 'Magenta'> result: </font>\n",
    "The `.info()` method gives us a data description, telling us the names of the columns, their data types and how many null values we have. Fortunately, we have no null values. It looks like some of these columns should be converted into different data types, e.g. flight_day.\n",
    "\n",
    "To provide more context, below is a more detailed data description, explaining exactly what each column means:\n",
    "\n",
    "- `num_passengers` = number of passengers travelling\n",
    "- `sales_channel` = sales channel booking was made on\n",
    "- `trip_type` = trip Type (Round Trip, One Way, Circle Trip)\n",
    "- `purchase_lead` = number of days between travel date and booking date\n",
    "- `length_of_stay` = number of days spent at destination\n",
    "- `flight_hour` = hour of flight departure\n",
    "- `flight_day` = day of week of flight departure\n",
    "- `route` = origin -> destination flight route\n",
    "- `booking_origin` = country from where booking was made\n",
    "- `wants_extra_baggage` = if the customer wanted extra baggage in the booking\n",
    "- `wants_preferred_seat` = if the customer wanted a preferred seat in the booking\n",
    "- `wants_in_flight_meals` = if the customer wanted in-flight meals in the booking\n",
    "- `flight_duration` = total duration of flight (in hours)\n",
    "- `booking_complete` = flag indicating if the customer completed the booking\n",
    "\n",
    "Before we compute any statistics on the data, lets do any necessary data conversion"
   ]
  },
  {
   "cell_type": "code",
   "execution_count": 12,
   "id": "0a88a4a9",
   "metadata": {},
   "outputs": [
    {
     "data": {
      "text/html": [
       "<div>\n",
       "<style scoped>\n",
       "    .dataframe tbody tr th:only-of-type {\n",
       "        vertical-align: middle;\n",
       "    }\n",
       "\n",
       "    .dataframe tbody tr th {\n",
       "        vertical-align: top;\n",
       "    }\n",
       "\n",
       "    .dataframe thead th {\n",
       "        text-align: right;\n",
       "    }\n",
       "</style>\n",
       "<table border=\"1\" class=\"dataframe\">\n",
       "  <thead>\n",
       "    <tr style=\"text-align: right;\">\n",
       "      <th></th>\n",
       "      <th>num_passengers</th>\n",
       "      <th>purchase_lead</th>\n",
       "      <th>length_of_stay</th>\n",
       "      <th>flight_hour</th>\n",
       "      <th>wants_extra_baggage</th>\n",
       "      <th>wants_preferred_seat</th>\n",
       "      <th>wants_in_flight_meals</th>\n",
       "      <th>flight_duration</th>\n",
       "      <th>booking_complete</th>\n",
       "    </tr>\n",
       "  </thead>\n",
       "  <tbody>\n",
       "    <tr>\n",
       "      <th>count</th>\n",
       "      <td>50000.000000</td>\n",
       "      <td>50000.000000</td>\n",
       "      <td>50000.00000</td>\n",
       "      <td>50000.00000</td>\n",
       "      <td>50000.000000</td>\n",
       "      <td>50000.000000</td>\n",
       "      <td>50000.000000</td>\n",
       "      <td>50000.000000</td>\n",
       "      <td>50000.000000</td>\n",
       "    </tr>\n",
       "    <tr>\n",
       "      <th>mean</th>\n",
       "      <td>1.591240</td>\n",
       "      <td>84.940480</td>\n",
       "      <td>23.04456</td>\n",
       "      <td>9.06634</td>\n",
       "      <td>0.668780</td>\n",
       "      <td>0.296960</td>\n",
       "      <td>0.427140</td>\n",
       "      <td>7.277561</td>\n",
       "      <td>0.149560</td>\n",
       "    </tr>\n",
       "    <tr>\n",
       "      <th>std</th>\n",
       "      <td>1.020165</td>\n",
       "      <td>90.451378</td>\n",
       "      <td>33.88767</td>\n",
       "      <td>5.41266</td>\n",
       "      <td>0.470657</td>\n",
       "      <td>0.456923</td>\n",
       "      <td>0.494668</td>\n",
       "      <td>1.496863</td>\n",
       "      <td>0.356643</td>\n",
       "    </tr>\n",
       "    <tr>\n",
       "      <th>min</th>\n",
       "      <td>1.000000</td>\n",
       "      <td>0.000000</td>\n",
       "      <td>0.00000</td>\n",
       "      <td>0.00000</td>\n",
       "      <td>0.000000</td>\n",
       "      <td>0.000000</td>\n",
       "      <td>0.000000</td>\n",
       "      <td>4.670000</td>\n",
       "      <td>0.000000</td>\n",
       "    </tr>\n",
       "    <tr>\n",
       "      <th>25%</th>\n",
       "      <td>1.000000</td>\n",
       "      <td>21.000000</td>\n",
       "      <td>5.00000</td>\n",
       "      <td>5.00000</td>\n",
       "      <td>0.000000</td>\n",
       "      <td>0.000000</td>\n",
       "      <td>0.000000</td>\n",
       "      <td>5.620000</td>\n",
       "      <td>0.000000</td>\n",
       "    </tr>\n",
       "    <tr>\n",
       "      <th>50%</th>\n",
       "      <td>1.000000</td>\n",
       "      <td>51.000000</td>\n",
       "      <td>17.00000</td>\n",
       "      <td>9.00000</td>\n",
       "      <td>1.000000</td>\n",
       "      <td>0.000000</td>\n",
       "      <td>0.000000</td>\n",
       "      <td>7.570000</td>\n",
       "      <td>0.000000</td>\n",
       "    </tr>\n",
       "    <tr>\n",
       "      <th>75%</th>\n",
       "      <td>2.000000</td>\n",
       "      <td>115.000000</td>\n",
       "      <td>28.00000</td>\n",
       "      <td>13.00000</td>\n",
       "      <td>1.000000</td>\n",
       "      <td>1.000000</td>\n",
       "      <td>1.000000</td>\n",
       "      <td>8.830000</td>\n",
       "      <td>0.000000</td>\n",
       "    </tr>\n",
       "    <tr>\n",
       "      <th>max</th>\n",
       "      <td>9.000000</td>\n",
       "      <td>867.000000</td>\n",
       "      <td>778.00000</td>\n",
       "      <td>23.00000</td>\n",
       "      <td>1.000000</td>\n",
       "      <td>1.000000</td>\n",
       "      <td>1.000000</td>\n",
       "      <td>9.500000</td>\n",
       "      <td>1.000000</td>\n",
       "    </tr>\n",
       "  </tbody>\n",
       "</table>\n",
       "</div>"
      ],
      "text/plain": [
       "       num_passengers  purchase_lead  length_of_stay  flight_hour  \\\n",
       "count    50000.000000   50000.000000     50000.00000  50000.00000   \n",
       "mean         1.591240      84.940480        23.04456      9.06634   \n",
       "std          1.020165      90.451378        33.88767      5.41266   \n",
       "min          1.000000       0.000000         0.00000      0.00000   \n",
       "25%          1.000000      21.000000         5.00000      5.00000   \n",
       "50%          1.000000      51.000000        17.00000      9.00000   \n",
       "75%          2.000000     115.000000        28.00000     13.00000   \n",
       "max          9.000000     867.000000       778.00000     23.00000   \n",
       "\n",
       "       wants_extra_baggage  wants_preferred_seat  wants_in_flight_meals  \\\n",
       "count         50000.000000          50000.000000           50000.000000   \n",
       "mean              0.668780              0.296960               0.427140   \n",
       "std               0.470657              0.456923               0.494668   \n",
       "min               0.000000              0.000000               0.000000   \n",
       "25%               0.000000              0.000000               0.000000   \n",
       "50%               1.000000              0.000000               0.000000   \n",
       "75%               1.000000              1.000000               1.000000   \n",
       "max               1.000000              1.000000               1.000000   \n",
       "\n",
       "       flight_duration  booking_complete  \n",
       "count     50000.000000      50000.000000  \n",
       "mean          7.277561          0.149560  \n",
       "std           1.496863          0.356643  \n",
       "min           4.670000          0.000000  \n",
       "25%           5.620000          0.000000  \n",
       "50%           7.570000          0.000000  \n",
       "75%           8.830000          0.000000  \n",
       "max           9.500000          1.000000  "
      ]
     },
     "execution_count": 12,
     "metadata": {},
     "output_type": "execute_result"
    }
   ],
   "source": [
    "df.describe()"
   ]
  },
  {
   "cell_type": "code",
   "execution_count": 13,
   "id": "c333d0ff",
   "metadata": {},
   "outputs": [
    {
     "data": {
      "text/plain": [
       "array(['Sat', 'Wed', 'Thu', 'Mon', 'Sun', 'Tue', 'Fri'], dtype=object)"
      ]
     },
     "execution_count": 13,
     "metadata": {},
     "output_type": "execute_result"
    }
   ],
   "source": [
    "df[\"flight_day\"].unique()"
   ]
  },
  {
   "cell_type": "code",
   "execution_count": 14,
   "id": "cb229021",
   "metadata": {},
   "outputs": [],
   "source": [
    "mapping = {\n",
    "    \"Mon\": 1,\n",
    "    \"Tue\": 2,\n",
    "    \"Wed\": 3,\n",
    "    \"Thu\": 4,\n",
    "    \"Fri\": 5,\n",
    "    \"Sat\": 6,\n",
    "    \"Sun\": 7,\n",
    "}\n",
    "\n",
    "df[\"flight_day\"] = df[\"flight_day\"].map(mapping)"
   ]
  },
  {
   "cell_type": "code",
   "execution_count": 15,
   "id": "7cd3beeb",
   "metadata": {},
   "outputs": [
    {
     "data": {
      "text/plain": [
       "array([6, 3, 4, 1, 7, 2, 5], dtype=int64)"
      ]
     },
     "execution_count": 15,
     "metadata": {},
     "output_type": "execute_result"
    }
   ],
   "source": [
    "df[\"flight_day\"].unique()"
   ]
  },
  {
   "cell_type": "code",
   "execution_count": 16,
   "id": "ee3396d2",
   "metadata": {},
   "outputs": [
    {
     "data": {
      "text/html": [
       "<div>\n",
       "<style scoped>\n",
       "    .dataframe tbody tr th:only-of-type {\n",
       "        vertical-align: middle;\n",
       "    }\n",
       "\n",
       "    .dataframe tbody tr th {\n",
       "        vertical-align: top;\n",
       "    }\n",
       "\n",
       "    .dataframe thead th {\n",
       "        text-align: right;\n",
       "    }\n",
       "</style>\n",
       "<table border=\"1\" class=\"dataframe\">\n",
       "  <thead>\n",
       "    <tr style=\"text-align: right;\">\n",
       "      <th></th>\n",
       "      <th>num_passengers</th>\n",
       "      <th>purchase_lead</th>\n",
       "      <th>length_of_stay</th>\n",
       "      <th>flight_hour</th>\n",
       "      <th>flight_day</th>\n",
       "      <th>wants_extra_baggage</th>\n",
       "      <th>wants_preferred_seat</th>\n",
       "      <th>wants_in_flight_meals</th>\n",
       "      <th>flight_duration</th>\n",
       "      <th>booking_complete</th>\n",
       "    </tr>\n",
       "  </thead>\n",
       "  <tbody>\n",
       "    <tr>\n",
       "      <th>count</th>\n",
       "      <td>50000.000000</td>\n",
       "      <td>50000.000000</td>\n",
       "      <td>50000.00000</td>\n",
       "      <td>50000.00000</td>\n",
       "      <td>50000.000000</td>\n",
       "      <td>50000.000000</td>\n",
       "      <td>50000.000000</td>\n",
       "      <td>50000.000000</td>\n",
       "      <td>50000.000000</td>\n",
       "      <td>50000.000000</td>\n",
       "    </tr>\n",
       "    <tr>\n",
       "      <th>mean</th>\n",
       "      <td>1.591240</td>\n",
       "      <td>84.940480</td>\n",
       "      <td>23.04456</td>\n",
       "      <td>9.06634</td>\n",
       "      <td>3.814420</td>\n",
       "      <td>0.668780</td>\n",
       "      <td>0.296960</td>\n",
       "      <td>0.427140</td>\n",
       "      <td>7.277561</td>\n",
       "      <td>0.149560</td>\n",
       "    </tr>\n",
       "    <tr>\n",
       "      <th>std</th>\n",
       "      <td>1.020165</td>\n",
       "      <td>90.451378</td>\n",
       "      <td>33.88767</td>\n",
       "      <td>5.41266</td>\n",
       "      <td>1.992792</td>\n",
       "      <td>0.470657</td>\n",
       "      <td>0.456923</td>\n",
       "      <td>0.494668</td>\n",
       "      <td>1.496863</td>\n",
       "      <td>0.356643</td>\n",
       "    </tr>\n",
       "    <tr>\n",
       "      <th>min</th>\n",
       "      <td>1.000000</td>\n",
       "      <td>0.000000</td>\n",
       "      <td>0.00000</td>\n",
       "      <td>0.00000</td>\n",
       "      <td>1.000000</td>\n",
       "      <td>0.000000</td>\n",
       "      <td>0.000000</td>\n",
       "      <td>0.000000</td>\n",
       "      <td>4.670000</td>\n",
       "      <td>0.000000</td>\n",
       "    </tr>\n",
       "    <tr>\n",
       "      <th>25%</th>\n",
       "      <td>1.000000</td>\n",
       "      <td>21.000000</td>\n",
       "      <td>5.00000</td>\n",
       "      <td>5.00000</td>\n",
       "      <td>2.000000</td>\n",
       "      <td>0.000000</td>\n",
       "      <td>0.000000</td>\n",
       "      <td>0.000000</td>\n",
       "      <td>5.620000</td>\n",
       "      <td>0.000000</td>\n",
       "    </tr>\n",
       "    <tr>\n",
       "      <th>50%</th>\n",
       "      <td>1.000000</td>\n",
       "      <td>51.000000</td>\n",
       "      <td>17.00000</td>\n",
       "      <td>9.00000</td>\n",
       "      <td>4.000000</td>\n",
       "      <td>1.000000</td>\n",
       "      <td>0.000000</td>\n",
       "      <td>0.000000</td>\n",
       "      <td>7.570000</td>\n",
       "      <td>0.000000</td>\n",
       "    </tr>\n",
       "    <tr>\n",
       "      <th>75%</th>\n",
       "      <td>2.000000</td>\n",
       "      <td>115.000000</td>\n",
       "      <td>28.00000</td>\n",
       "      <td>13.00000</td>\n",
       "      <td>5.000000</td>\n",
       "      <td>1.000000</td>\n",
       "      <td>1.000000</td>\n",
       "      <td>1.000000</td>\n",
       "      <td>8.830000</td>\n",
       "      <td>0.000000</td>\n",
       "    </tr>\n",
       "    <tr>\n",
       "      <th>max</th>\n",
       "      <td>9.000000</td>\n",
       "      <td>867.000000</td>\n",
       "      <td>778.00000</td>\n",
       "      <td>23.00000</td>\n",
       "      <td>7.000000</td>\n",
       "      <td>1.000000</td>\n",
       "      <td>1.000000</td>\n",
       "      <td>1.000000</td>\n",
       "      <td>9.500000</td>\n",
       "      <td>1.000000</td>\n",
       "    </tr>\n",
       "  </tbody>\n",
       "</table>\n",
       "</div>"
      ],
      "text/plain": [
       "       num_passengers  purchase_lead  length_of_stay  flight_hour  \\\n",
       "count    50000.000000   50000.000000     50000.00000  50000.00000   \n",
       "mean         1.591240      84.940480        23.04456      9.06634   \n",
       "std          1.020165      90.451378        33.88767      5.41266   \n",
       "min          1.000000       0.000000         0.00000      0.00000   \n",
       "25%          1.000000      21.000000         5.00000      5.00000   \n",
       "50%          1.000000      51.000000        17.00000      9.00000   \n",
       "75%          2.000000     115.000000        28.00000     13.00000   \n",
       "max          9.000000     867.000000       778.00000     23.00000   \n",
       "\n",
       "         flight_day  wants_extra_baggage  wants_preferred_seat  \\\n",
       "count  50000.000000         50000.000000          50000.000000   \n",
       "mean       3.814420             0.668780              0.296960   \n",
       "std        1.992792             0.470657              0.456923   \n",
       "min        1.000000             0.000000              0.000000   \n",
       "25%        2.000000             0.000000              0.000000   \n",
       "50%        4.000000             1.000000              0.000000   \n",
       "75%        5.000000             1.000000              1.000000   \n",
       "max        7.000000             1.000000              1.000000   \n",
       "\n",
       "       wants_in_flight_meals  flight_duration  booking_complete  \n",
       "count           50000.000000     50000.000000      50000.000000  \n",
       "mean                0.427140         7.277561          0.149560  \n",
       "std                 0.494668         1.496863          0.356643  \n",
       "min                 0.000000         4.670000          0.000000  \n",
       "25%                 0.000000         5.620000          0.000000  \n",
       "50%                 0.000000         7.570000          0.000000  \n",
       "75%                 1.000000         8.830000          0.000000  \n",
       "max                 1.000000         9.500000          1.000000  "
      ]
     },
     "execution_count": 16,
     "metadata": {},
     "output_type": "execute_result"
    }
   ],
   "source": [
    "df.describe()"
   ]
  },
  {
   "cell_type": "markdown",
   "id": "5aecaa56",
   "metadata": {},
   "source": [
    "<font color = 'Magenta'> result: </font>\n",
    "The `.describe()` method gives us a summary of descriptive statistics over the entire dataset (only works for numeric columns). This gives us a quick overview of a few things such as the mean, min, max and overall distribution of each column.\n",
    "\n",
    "From this point, you should continue exploring the dataset with some visualisations and other metrics that you think may be useful. Then, you should prepare your dataset for predictive modelling. Finally, you should train your machine learning model, evaluate it with performance metrics and output visualisations for the contributing variables. All of this analysis should be summarised in your single slide."
   ]
  },
  {
   "cell_type": "markdown",
   "id": "8b113a6f",
   "metadata": {},
   "source": [
    "\n",
    "### <font color='red' face='Cursive'>data visualization</font>"
   ]
  },
  {
   "cell_type": "code",
   "execution_count": 17,
   "id": "67b55b61",
   "metadata": {},
   "outputs": [
    {
     "data": {
      "image/png": "[encoded data removed]",
      "text/plain": [
       "<Figure size 576x396 with 1 Axes>"
      ]
     },
     "metadata": {},
     "output_type": "display_data"
    }
   ],
   "source": [
    "# sales channel\n",
    "plt.style.use('seaborn')\n",
    "sns.countplot(x='sales_channel',data=df ,palette='Blues')\n",
    "plt.title('Sales Channel')\n",
    "sns.despine()"
   ]
  },
  {
   "cell_type": "markdown",
   "id": "0da38961",
   "metadata": {},
   "source": [
    "<font color = 'Magenta'> result: </font> Internet is the highly sale channel over mobile"
   ]
  },
  {
   "cell_type": "code",
   "execution_count": 18,
   "id": "67060485",
   "metadata": {},
   "outputs": [
    {
     "data": {
      "image/png": "[encoded data removed]",
      "text/plain": [
       "<Figure size 576x396 with 1 Axes>"
      ]
     },
     "metadata": {},
     "output_type": "display_data"
    }
   ],
   "source": [
    "# sales channel with successful booking\n",
    "sns.countplot(x='sales_channel',data=df,hue='booking_complete',palette='Blues')\n",
    "plt.title('Sales Channel With Successful Booking')\n",
    "sns.despine()"
   ]
  },
  {
   "cell_type": "markdown",
   "id": "449b361b",
   "metadata": {},
   "source": [
    "<font color = 'Magenta'> result: </font> Internet has the most successfull booking on sales channel"
   ]
  },
  {
   "cell_type": "code",
   "execution_count": 19,
   "id": "b4ee1bdb",
   "metadata": {},
   "outputs": [
    {
     "name": "stdout",
     "output_type": "stream",
     "text": [
      "Number of bookings done through internet: 88.764 %\n",
      "Number of bookings done through phone call: 11.236 %\n"
     ]
    }
   ],
   "source": [
    "# sales channel in %\n",
    "internet_sale = df.sales_channel.value_counts().values[0]  / df.sales_channel.count() *100\n",
    "mobile_sale = df.sales_channel.value_counts().values[1]  / df.sales_channel.count() *100\n",
    "print(f\"Number of bookings done through internet: {internet_sale} %\")\n",
    "print(f\"Number of bookings done through phone call: {mobile_sale} %\")"
   ]
  },
  {
   "cell_type": "code",
   "execution_count": 20,
   "id": "08fbbe0d",
   "metadata": {},
   "outputs": [
    {
     "data": {
      "image/png": "[encoded data removed]",
      "text/plain": [
       "<Figure size 576x396 with 1 Axes>"
      ]
     },
     "metadata": {},
     "output_type": "display_data"
    }
   ],
   "source": [
    "# tripe types\n",
    "sns.countplot(x='trip_type',data=df,palette='Blues')\n",
    "plt.title('Trip Types')\n",
    "sns.despine()"
   ]
  },
  {
   "cell_type": "markdown",
   "id": "6fa9c430",
   "metadata": {},
   "source": [
    "<font color = 'Magenta'> result: </font> round trip is the most type trip use"
   ]
  },
  {
   "cell_type": "code",
   "execution_count": 21,
   "id": "021edcdf",
   "metadata": {},
   "outputs": [
    {
     "name": "stdout",
     "output_type": "stream",
     "text": [
      "Percentage of round trips: 98.994 %\n",
      "Percentage of One way trips: 0.774 %\n",
      "Percentage of circle trips: 0.232 %\n"
     ]
    }
   ],
   "source": [
    "# trip type in %\n",
    "round_trip = df.trip_type.value_counts().values[0]/ df.trip_type.count() *100\n",
    "oneway_trip = df.trip_type.value_counts().values[1]/ df.trip_type.count() *100\n",
    "circle_trip = df.trip_type.value_counts().values[2]/ df.trip_type.count() *100\n",
    "print(f\"Percentage of round trips: {round_trip} %\")\n",
    "print(f\"Percentage of One way trips: {oneway_trip} %\")\n",
    "print(f\"Percentage of circle trips: {circle_trip} %\")"
   ]
  },
  {
   "cell_type": "code",
   "execution_count": 22,
   "id": "c708399b",
   "metadata": {},
   "outputs": [
    {
     "data": {
      "image/png": "[encoded data removed]",
      "text/plain": [
       "<Figure size 1080x360 with 1 Axes>"
      ]
     },
     "metadata": {},
     "output_type": "display_data"
    }
   ],
   "source": [
    "# purchase lead\n",
    "plt.figure(figsize=(15,5))\n",
    "sns.histplot(data=df, x=\"purchase_lead\", binwidth=20,kde=True)\n",
    "plt.title('Purchase Lead (Advance Booking)')\n",
    "plt.show()"
   ]
  },
  {
   "cell_type": "markdown",
   "id": "5e9f97b6",
   "metadata": {},
   "source": [
    "<font color = 'Magenta'> result: </font>\n",
    "From the above visualization we can understand that most of the purchase lead (advance booking) is in between 0 to 600 days there for the purchase lead which is more than 600 days we will treat them as outliers to increase the accuracy of the predictive modeling"
   ]
  },
  {
   "cell_type": "code",
   "execution_count": 23,
   "id": "afbe571a",
   "metadata": {},
   "outputs": [
    {
     "data": {
      "text/plain": [
       "False    49992\n",
       "True         8\n",
       "Name: purchase_lead, dtype: int64"
      ]
     },
     "execution_count": 23,
     "metadata": {},
     "output_type": "execute_result"
    }
   ],
   "source": [
    "# Checking the purchase lead with more than 600 days\n",
    "(df.purchase_lead >600).value_counts()"
   ]
  },
  {
   "cell_type": "markdown",
   "id": "9a649997",
   "metadata": {},
   "source": [
    "<font color = 'Magenta'> result: </font> There are only 8 purchase lead with more than 600 days of advance booking hence we will remove them"
   ]
  },
  {
   "cell_type": "code",
   "execution_count": 24,
   "id": "9484dabc",
   "metadata": {},
   "outputs": [
    {
     "data": {
      "text/html": [
       "<div>\n",
       "<style scoped>\n",
       "    .dataframe tbody tr th:only-of-type {\n",
       "        vertical-align: middle;\n",
       "    }\n",
       "\n",
       "    .dataframe tbody tr th {\n",
       "        vertical-align: top;\n",
       "    }\n",
       "\n",
       "    .dataframe thead th {\n",
       "        text-align: right;\n",
       "    }\n",
       "</style>\n",
       "<table border=\"1\" class=\"dataframe\">\n",
       "  <thead>\n",
       "    <tr style=\"text-align: right;\">\n",
       "      <th></th>\n",
       "      <th>num_passengers</th>\n",
       "      <th>sales_channel</th>\n",
       "      <th>trip_type</th>\n",
       "      <th>purchase_lead</th>\n",
       "      <th>length_of_stay</th>\n",
       "      <th>flight_hour</th>\n",
       "      <th>flight_day</th>\n",
       "      <th>route</th>\n",
       "      <th>booking_origin</th>\n",
       "      <th>wants_extra_baggage</th>\n",
       "      <th>wants_preferred_seat</th>\n",
       "      <th>wants_in_flight_meals</th>\n",
       "      <th>flight_duration</th>\n",
       "      <th>booking_complete</th>\n",
       "    </tr>\n",
       "  </thead>\n",
       "  <tbody>\n",
       "    <tr>\n",
       "      <th>835</th>\n",
       "      <td>3</td>\n",
       "      <td>Internet</td>\n",
       "      <td>RoundTrip</td>\n",
       "      <td>641</td>\n",
       "      <td>46</td>\n",
       "      <td>6</td>\n",
       "      <td>7</td>\n",
       "      <td>AKLKUL</td>\n",
       "      <td>Malaysia</td>\n",
       "      <td>1</td>\n",
       "      <td>0</td>\n",
       "      <td>1</td>\n",
       "      <td>8.83</td>\n",
       "      <td>1</td>\n",
       "    </tr>\n",
       "    <tr>\n",
       "      <th>6148</th>\n",
       "      <td>1</td>\n",
       "      <td>Internet</td>\n",
       "      <td>RoundTrip</td>\n",
       "      <td>614</td>\n",
       "      <td>19</td>\n",
       "      <td>11</td>\n",
       "      <td>3</td>\n",
       "      <td>COKMEL</td>\n",
       "      <td>Australia</td>\n",
       "      <td>0</td>\n",
       "      <td>0</td>\n",
       "      <td>0</td>\n",
       "      <td>8.83</td>\n",
       "      <td>0</td>\n",
       "    </tr>\n",
       "    <tr>\n",
       "      <th>24119</th>\n",
       "      <td>1</td>\n",
       "      <td>Internet</td>\n",
       "      <td>RoundTrip</td>\n",
       "      <td>704</td>\n",
       "      <td>23</td>\n",
       "      <td>8</td>\n",
       "      <td>2</td>\n",
       "      <td>PNHSYD</td>\n",
       "      <td>Australia</td>\n",
       "      <td>0</td>\n",
       "      <td>0</td>\n",
       "      <td>0</td>\n",
       "      <td>8.58</td>\n",
       "      <td>0</td>\n",
       "    </tr>\n",
       "    <tr>\n",
       "      <th>38356</th>\n",
       "      <td>2</td>\n",
       "      <td>Internet</td>\n",
       "      <td>RoundTrip</td>\n",
       "      <td>633</td>\n",
       "      <td>5</td>\n",
       "      <td>10</td>\n",
       "      <td>6</td>\n",
       "      <td>HKTOOL</td>\n",
       "      <td>Australia</td>\n",
       "      <td>0</td>\n",
       "      <td>0</td>\n",
       "      <td>1</td>\n",
       "      <td>8.83</td>\n",
       "      <td>0</td>\n",
       "    </tr>\n",
       "    <tr>\n",
       "      <th>39417</th>\n",
       "      <td>1</td>\n",
       "      <td>Mobile</td>\n",
       "      <td>RoundTrip</td>\n",
       "      <td>625</td>\n",
       "      <td>5</td>\n",
       "      <td>15</td>\n",
       "      <td>5</td>\n",
       "      <td>ICNRGN</td>\n",
       "      <td>Myanmar (Burma)</td>\n",
       "      <td>0</td>\n",
       "      <td>0</td>\n",
       "      <td>0</td>\n",
       "      <td>6.62</td>\n",
       "      <td>0</td>\n",
       "    </tr>\n",
       "    <tr>\n",
       "      <th>42916</th>\n",
       "      <td>1</td>\n",
       "      <td>Mobile</td>\n",
       "      <td>RoundTrip</td>\n",
       "      <td>605</td>\n",
       "      <td>6</td>\n",
       "      <td>18</td>\n",
       "      <td>4</td>\n",
       "      <td>BLRMEL</td>\n",
       "      <td>India</td>\n",
       "      <td>0</td>\n",
       "      <td>0</td>\n",
       "      <td>0</td>\n",
       "      <td>8.83</td>\n",
       "      <td>0</td>\n",
       "    </tr>\n",
       "    <tr>\n",
       "      <th>46716</th>\n",
       "      <td>2</td>\n",
       "      <td>Internet</td>\n",
       "      <td>RoundTrip</td>\n",
       "      <td>606</td>\n",
       "      <td>6</td>\n",
       "      <td>6</td>\n",
       "      <td>5</td>\n",
       "      <td>HKTTPE</td>\n",
       "      <td>United States</td>\n",
       "      <td>0</td>\n",
       "      <td>0</td>\n",
       "      <td>1</td>\n",
       "      <td>4.67</td>\n",
       "      <td>0</td>\n",
       "    </tr>\n",
       "    <tr>\n",
       "      <th>48259</th>\n",
       "      <td>3</td>\n",
       "      <td>Internet</td>\n",
       "      <td>RoundTrip</td>\n",
       "      <td>867</td>\n",
       "      <td>6</td>\n",
       "      <td>7</td>\n",
       "      <td>1</td>\n",
       "      <td>KIXMLE</td>\n",
       "      <td>Japan</td>\n",
       "      <td>0</td>\n",
       "      <td>0</td>\n",
       "      <td>1</td>\n",
       "      <td>7.00</td>\n",
       "      <td>1</td>\n",
       "    </tr>\n",
       "  </tbody>\n",
       "</table>\n",
       "</div>"
      ],
      "text/plain": [
       "       num_passengers sales_channel  trip_type  purchase_lead  length_of_stay  \\\n",
       "835                 3      Internet  RoundTrip            641              46   \n",
       "6148                1      Internet  RoundTrip            614              19   \n",
       "24119               1      Internet  RoundTrip            704              23   \n",
       "38356               2      Internet  RoundTrip            633               5   \n",
       "39417               1        Mobile  RoundTrip            625               5   \n",
       "42916               1        Mobile  RoundTrip            605               6   \n",
       "46716               2      Internet  RoundTrip            606               6   \n",
       "48259               3      Internet  RoundTrip            867               6   \n",
       "\n",
       "       flight_hour  flight_day   route   booking_origin  wants_extra_baggage  \\\n",
       "835              6           7  AKLKUL         Malaysia                    1   \n",
       "6148            11           3  COKMEL        Australia                    0   \n",
       "24119            8           2  PNHSYD        Australia                    0   \n",
       "38356           10           6  HKTOOL        Australia                    0   \n",
       "39417           15           5  ICNRGN  Myanmar (Burma)                    0   \n",
       "42916           18           4  BLRMEL            India                    0   \n",
       "46716            6           5  HKTTPE    United States                    0   \n",
       "48259            7           1  KIXMLE            Japan                    0   \n",
       "\n",
       "       wants_preferred_seat  wants_in_flight_meals  flight_duration  \\\n",
       "835                       0                      1             8.83   \n",
       "6148                      0                      0             8.83   \n",
       "24119                     0                      0             8.58   \n",
       "38356                     0                      1             8.83   \n",
       "39417                     0                      0             6.62   \n",
       "42916                     0                      0             8.83   \n",
       "46716                     0                      1             4.67   \n",
       "48259                     0                      1             7.00   \n",
       "\n",
       "       booking_complete  \n",
       "835                   1  \n",
       "6148                  0  \n",
       "24119                 0  \n",
       "38356                 0  \n",
       "39417                 0  \n",
       "42916                 0  \n",
       "46716                 0  \n",
       "48259                 1  "
      ]
     },
     "execution_count": 24,
     "metadata": {},
     "output_type": "execute_result"
    }
   ],
   "source": [
    "# data with more than 600 days of purchase lead\n",
    "df[df.purchase_lead > 600]"
   ]
  },
  {
   "cell_type": "code",
   "execution_count": 25,
   "id": "cf208f85",
   "metadata": {},
   "outputs": [],
   "source": [
    "# filtering the data to have only purchase lead days less than 600 days\n",
    "df = df[df.purchase_lead <600 ]"
   ]
  },
  {
   "cell_type": "code",
   "execution_count": 26,
   "id": "73d7defb",
   "metadata": {},
   "outputs": [
    {
     "data": {
      "image/png": "[encoded data removed]",
      "text/plain": [
       "<Figure size 1080x360 with 1 Axes>"
      ]
     },
     "metadata": {},
     "output_type": "display_data"
    }
   ],
   "source": [
    "# Length Of Stay\n",
    "plt.figure(figsize=(15,5))\n",
    "sns.histplot(data=df, x=\"length_of_stay\", binwidth=15,kde=True)\n",
    "plt.title('Days of stay')\n",
    "plt.show()"
   ]
  },
  {
   "cell_type": "markdown",
   "id": "4cd37876",
   "metadata": {},
   "source": [
    "<font color = 'Magenta'> result: </font>\n",
    "From the above visualization we can understand that most of the length of stays (days stay) is in between 0 to 100 but we also have length of stay with more than 100 . hence we will focus on the length of stay till 500 days"
   ]
  },
  {
   "cell_type": "code",
   "execution_count": 27,
   "id": "0b09a91a",
   "metadata": {},
   "outputs": [
    {
     "data": {
      "text/plain": [
       "False    48854\n",
       "True      1138\n",
       "Name: length_of_stay, dtype: int64"
      ]
     },
     "execution_count": 27,
     "metadata": {},
     "output_type": "execute_result"
    }
   ],
   "source": [
    "# Checking the data for length of stay with more then 100 days\n",
    "(df.length_of_stay> 100).value_counts()"
   ]
  },
  {
   "cell_type": "code",
   "execution_count": 28,
   "id": "61ca57ae",
   "metadata": {},
   "outputs": [
    {
     "data": {
      "text/plain": [
       "0    9\n",
       "1    1\n",
       "Name: booking_complete, dtype: int64"
      ]
     },
     "execution_count": 28,
     "metadata": {},
     "output_type": "execute_result"
    }
   ],
   "source": [
    "# Checking the data for length of stay with more then 500 days with successful bookinh\n",
    "df[df.length_of_stay> 500].booking_complete.value_counts()"
   ]
  },
  {
   "cell_type": "markdown",
   "id": "017c6083",
   "metadata": {},
   "source": [
    "<font color = 'Magenta'> result: </font>\n",
    "We need to have more business knowledge to decide whether to remove these entries with more than 600 days of stay. There are could be many reasons for such bookings. But for now, we will just want to focus on bookings done for length of stay less than 500 days."
   ]
  },
  {
   "cell_type": "code",
   "execution_count": 29,
   "id": "0e79a685",
   "metadata": {},
   "outputs": [],
   "source": [
    "# filtering the data to have only length of stay less than 500 days\n",
    "data = df[df.purchase_lead <500 ]"
   ]
  },
  {
   "cell_type": "code",
   "execution_count": 30,
   "id": "c8832626",
   "metadata": {},
   "outputs": [
    {
     "data": {
      "text/plain": [
       "(49982, 14)"
      ]
     },
     "execution_count": 30,
     "metadata": {},
     "output_type": "execute_result"
    }
   ],
   "source": [
    "data.shape       # filterd data shape"
   ]
  },
  {
   "cell_type": "code",
   "execution_count": 31,
   "id": "f4c70d94",
   "metadata": {},
   "outputs": [
    {
     "data": {
      "image/png": "[encoded data removed]",
      "text/plain": [
       "<Figure size 1080x360 with 1 Axes>"
      ]
     },
     "metadata": {},
     "output_type": "display_data"
    }
   ],
   "source": [
    "# travellers from which country had maximum booking applications (top 20 countrys)\n",
    "plt.figure(figsize=(15,5))\n",
    "ax = data.booking_origin.value_counts()[:20].plot(kind=\"bar\")\n",
    "ax.set_xlabel(\"Countries\")\n",
    "ax.set_ylabel(\"Number of bookings\")\n",
    "plt.show()"
   ]
  },
  {
   "cell_type": "markdown",
   "id": "14763e45",
   "metadata": {},
   "source": [
    "<font color = 'Magenta'> result: </font> country with maximum booking is Australia"
   ]
  },
  {
   "cell_type": "code",
   "execution_count": 32,
   "id": "f6c7a293",
   "metadata": {},
   "outputs": [
    {
     "data": {
      "image/png": "[encoded data removed]",
      "text/plain": [
       "<Figure size 1080x360 with 1 Axes>"
      ]
     },
     "metadata": {},
     "output_type": "display_data"
    }
   ],
   "source": [
    "# travellers from which country had their booking complete (top 20 countrys)\n",
    "plt.figure(figsize=(15,5))\n",
    "ax = data[data.booking_complete ==1].booking_origin.value_counts()[:20].plot(kind=\"bar\")\n",
    "ax.set_xlabel('Countries')\n",
    "ax.set_ylabel('Number of complete bookings')\n",
    "plt.show()"
   ]
  },
  {
   "cell_type": "markdown",
   "id": "788f857a",
   "metadata": {},
   "source": [
    "<font color = 'Magenta'> result: </font> countries with most booking customers are respectively: Australia,Malaysia,South Korea,Japan,China"
   ]
  },
  {
   "cell_type": "code",
   "execution_count": 33,
   "id": "d762c20b",
   "metadata": {},
   "outputs": [
    {
     "name": "stdout",
     "output_type": "stream",
     "text": [
      "Out of 50000 booking entries only 14.96 % bookings were successfull or complete.\n"
     ]
    }
   ],
   "source": [
    "# looking for % of successfull booking in 50000 entries\n",
    "successful_booking = data.booking_complete.value_counts().values[0] / len(data) * 100\n",
    "unsuccessful_booking = 100-successful_booking\n",
    "print(f\"Out of 50000 booking entries only {round(unsuccessful_booking,2)} % bookings were successfull or complete.\")"
   ]
  },
  {
   "cell_type": "code",
   "execution_count": 34,
   "id": "77d1cee7",
   "metadata": {},
   "outputs": [
    {
     "data": {
      "image/png": "[encoded data removed]",
      "text/plain": [
       "<Figure size 1080x360 with 1 Axes>"
      ]
     },
     "metadata": {},
     "output_type": "display_data"
    }
   ],
   "source": [
    "# flight day\n",
    "plt.figure(figsize=(15, 5))\n",
    "sns.countplot(x='flight_day', data=data, palette='Blues')\n",
    "plt.title('Flight Day')\n",
    "plt.show()"
   ]
  },
  {
   "cell_type": "markdown",
   "id": "b74bfebd",
   "metadata": {},
   "source": [
    "<font color = 'Magenta'> result: </font> Monday is the most fight day follow respectively by thusday and wednesday"
   ]
  },
  {
   "cell_type": "code",
   "execution_count": 35,
   "id": "18945a4d",
   "metadata": {},
   "outputs": [
    {
     "data": {
      "image/png": "[encoded data removed]",
      "text/plain": [
       "<Figure size 1080x360 with 1 Axes>"
      ]
     },
     "metadata": {},
     "output_type": "display_data"
    }
   ],
   "source": [
    "# flight hours\n",
    "plt.figure(figsize=(15, 5))\n",
    "sns.countplot(x=\"flight_hour\", data=data, palette='Blues')\n",
    "plt.title('Flight Hours')\n",
    "plt.show()"
   ]
  },
  {
   "cell_type": "markdown",
   "id": "eb83df34",
   "metadata": {},
   "source": [
    "<font color = 'Magenta'> result: </font> most flight occure between 6 AM and 1 PM"
   ]
  },
  {
   "cell_type": "code",
   "execution_count": 36,
   "id": "9980277a",
   "metadata": {},
   "outputs": [
    {
     "data": {
      "image/png": "[encoded data removed]",
      "text/plain": [
       "<Figure size 1080x360 with 1 Axes>"
      ]
     },
     "metadata": {},
     "output_type": "display_data"
    }
   ],
   "source": [
    "# flight duration\n",
    "plt.figure(figsize=(15, 5))\n",
    "sns.countplot(x=\"flight_duration\", data=data, palette='Blues')\n",
    "plt.title('Flight Duration')\n",
    "plt.show()"
   ]
  },
  {
   "cell_type": "markdown",
   "id": "1ab1cd14",
   "metadata": {},
   "source": [
    "<font color = 'Magenta'> result: </font>\n",
    "Most of the fights stay about 5 to 9 hours"
   ]
  },
  {
   "cell_type": "code",
   "execution_count": 37,
   "id": "228f1527",
   "metadata": {},
   "outputs": [
    {
     "data": {
      "image/png": "[encoded data removed]",
      "text/plain": [
       "<Figure size 576x396 with 1 Axes>"
      ]
     },
     "metadata": {},
     "output_type": "display_data"
    }
   ],
   "source": [
    "# wants extra baggage\n",
    "sns.countplot(x='wants_extra_baggage', data=data, palette='Blues')\n",
    "plt.title('Wants Extra Baggage')\n",
    "plt.show()"
   ]
  },
  {
   "cell_type": "markdown",
   "id": "7fda752f",
   "metadata": {},
   "source": [
    "<font color = 'Magenta'> result: </font> most customers Want extra baggage"
   ]
  },
  {
   "cell_type": "code",
   "execution_count": 38,
   "id": "37af1b5b",
   "metadata": {},
   "outputs": [
    {
     "data": {
      "image/png": "[encoded data removed]",
      "text/plain": [
       "<Figure size 576x396 with 1 Axes>"
      ]
     },
     "metadata": {},
     "output_type": "display_data"
    }
   ],
   "source": [
    "# wants preferred seat\n",
    "sns.countplot(x='wants_preferred_seat', data=data, palette='Blues')\n",
    "plt.title('Want Preferred Seat')\n",
    "plt.show()"
   ]
  },
  {
   "cell_type": "markdown",
   "id": "6312eee4",
   "metadata": {},
   "source": [
    "<font color = 'Magenta'> result: </font> Less customer  want preferred seat"
   ]
  },
  {
   "cell_type": "code",
   "execution_count": 39,
   "id": "38183afb",
   "metadata": {},
   "outputs": [
    {
     "data": {
      "image/png": "[encoded data removed]",
      "text/plain": [
       "<Figure size 576x396 with 1 Axes>"
      ]
     },
     "metadata": {},
     "output_type": "display_data"
    }
   ],
   "source": [
    "# wants in flight_meals\n",
    "sns.countplot(x='wants_in_flight_meals', data=data, palette='Blues')\n",
    "plt.title('Wants In Flight Meals')\n",
    "plt.show()"
   ]
  },
  {
   "cell_type": "markdown",
   "id": "5ea45b05",
   "metadata": {},
   "source": [
    "<font color = 'Magenta'> result: </font>Less customer want flight Meals"
   ]
  },
  {
   "cell_type": "code",
   "execution_count": 40,
   "id": "9f6b8a31",
   "metadata": {},
   "outputs": [
    {
     "data": {
      "text/plain": [
       "array([6, 3, 4, 1, 7, 2, 5], dtype=int64)"
      ]
     },
     "execution_count": 40,
     "metadata": {},
     "output_type": "execute_result"
    }
   ],
   "source": [
    "# Converting the flight day column into required format\n",
    "data[\"flight_day\"].unique()"
   ]
  },
  {
   "cell_type": "markdown",
   "id": "61481c3a",
   "metadata": {},
   "source": [
    "## <font color='indigo' face='Cursive'>Predictive modelling</font>"
   ]
  },
  {
   "cell_type": "code",
   "execution_count": 41,
   "id": "50d34e1a",
   "metadata": {},
   "outputs": [
    {
     "data": {
      "text/html": [
       "<div>\n",
       "<style scoped>\n",
       "    .dataframe tbody tr th:only-of-type {\n",
       "        vertical-align: middle;\n",
       "    }\n",
       "\n",
       "    .dataframe tbody tr th {\n",
       "        vertical-align: top;\n",
       "    }\n",
       "\n",
       "    .dataframe thead th {\n",
       "        text-align: right;\n",
       "    }\n",
       "</style>\n",
       "<table border=\"1\" class=\"dataframe\">\n",
       "  <thead>\n",
       "    <tr style=\"text-align: right;\">\n",
       "      <th></th>\n",
       "      <th>sales_channel_Internet</th>\n",
       "      <th>sales_channel_Mobile</th>\n",
       "      <th>trip_type_CircleTrip</th>\n",
       "      <th>trip_type_OneWay</th>\n",
       "      <th>trip_type_RoundTrip</th>\n",
       "    </tr>\n",
       "  </thead>\n",
       "  <tbody>\n",
       "    <tr>\n",
       "      <th>0</th>\n",
       "      <td>1</td>\n",
       "      <td>0</td>\n",
       "      <td>0</td>\n",
       "      <td>0</td>\n",
       "      <td>1</td>\n",
       "    </tr>\n",
       "    <tr>\n",
       "      <th>1</th>\n",
       "      <td>1</td>\n",
       "      <td>0</td>\n",
       "      <td>0</td>\n",
       "      <td>0</td>\n",
       "      <td>1</td>\n",
       "    </tr>\n",
       "    <tr>\n",
       "      <th>2</th>\n",
       "      <td>1</td>\n",
       "      <td>0</td>\n",
       "      <td>0</td>\n",
       "      <td>0</td>\n",
       "      <td>1</td>\n",
       "    </tr>\n",
       "    <tr>\n",
       "      <th>3</th>\n",
       "      <td>1</td>\n",
       "      <td>0</td>\n",
       "      <td>0</td>\n",
       "      <td>0</td>\n",
       "      <td>1</td>\n",
       "    </tr>\n",
       "    <tr>\n",
       "      <th>4</th>\n",
       "      <td>1</td>\n",
       "      <td>0</td>\n",
       "      <td>0</td>\n",
       "      <td>0</td>\n",
       "      <td>1</td>\n",
       "    </tr>\n",
       "  </tbody>\n",
       "</table>\n",
       "</div>"
      ],
      "text/plain": [
       "   sales_channel_Internet  sales_channel_Mobile  trip_type_CircleTrip  \\\n",
       "0                       1                     0                     0   \n",
       "1                       1                     0                     0   \n",
       "2                       1                     0                     0   \n",
       "3                       1                     0                     0   \n",
       "4                       1                     0                     0   \n",
       "\n",
       "   trip_type_OneWay  trip_type_RoundTrip  \n",
       "0                 0                    1  \n",
       "1                 0                    1  \n",
       "2                 0                    1  \n",
       "3                 0                    1  \n",
       "4                 0                    1  "
      ]
     },
     "execution_count": 41,
     "metadata": {},
     "output_type": "execute_result"
    }
   ],
   "source": [
    "# Encodeing the \"sales_channel\" & \"trip_types\" column using get_dummies() function\n",
    "dummies= pd.get_dummies(data[['sales_channel','trip_type']])\n",
    "dummies.head()"
   ]
  },
  {
   "cell_type": "code",
   "execution_count": 42,
   "id": "fbc7facc",
   "metadata": {},
   "outputs": [],
   "source": [
    "data = data.join(dummies)"
   ]
  },
  {
   "cell_type": "code",
   "execution_count": 43,
   "id": "9121cea9",
   "metadata": {},
   "outputs": [],
   "source": [
    "# droping the categorical columns now\n",
    "data = df.drop(['sales_channel', 'trip_type','booking_origin', 'route'], axis=1)"
   ]
  },
  {
   "cell_type": "code",
   "execution_count": 44,
   "id": "c790d620",
   "metadata": {},
   "outputs": [],
   "source": [
    "#store the target column for supervised learning\n",
    "target = data['booking_complete']"
   ]
  },
  {
   "cell_type": "code",
   "execution_count": 45,
   "id": "ec7aa95b",
   "metadata": {},
   "outputs": [],
   "source": [
    "# droping the target column\n",
    "data = data.drop('booking_complete', axis=1)"
   ]
  },
  {
   "cell_type": "code",
   "execution_count": 46,
   "id": "d87acac5",
   "metadata": {},
   "outputs": [
    {
     "data": {
      "text/plain": [
       "num_passengers           0\n",
       "purchase_lead            0\n",
       "length_of_stay           0\n",
       "flight_hour              0\n",
       "flight_day               0\n",
       "wants_extra_baggage      0\n",
       "wants_preferred_seat     0\n",
       "wants_in_flight_meals    0\n",
       "flight_duration          0\n",
       "dtype: int64"
      ]
     },
     "execution_count": 46,
     "metadata": {},
     "output_type": "execute_result"
    }
   ],
   "source": [
    "data.isnull().sum()    # checking for null values"
   ]
  },
  {
   "cell_type": "markdown",
   "id": "e9ea14d2",
   "metadata": {},
   "source": [
    "<font color = 'Magenta'> result: </font> the data has no null values"
   ]
  },
  {
   "cell_type": "markdown",
   "id": "657d6522",
   "metadata": {},
   "source": [
    "#### <font color='red' face='Cursive'>Normalizing the values</font>"
   ]
  },
  {
   "cell_type": "code",
   "execution_count": 47,
   "id": "6fd6d831",
   "metadata": {},
   "outputs": [],
   "source": [
    "# Scaleing the data using the Standard Scaler to create a scaled DataFrame\n",
    "from sklearn.preprocessing import StandardScaler\n",
    "\n",
    "scaler = StandardScaler()\n",
    "\n",
    "# scaleing the data\n",
    "scaled_data = scaler.fit_transform(data)\n",
    "\n",
    "#create a dataframe of scled data\n",
    "scaled_data = pd.DataFrame(scaled_data, columns = data.columns)"
   ]
  },
  {
   "cell_type": "code",
   "execution_count": 48,
   "id": "3d50e632",
   "metadata": {},
   "outputs": [
    {
     "data": {
      "text/html": [
       "<div>\n",
       "<style scoped>\n",
       "    .dataframe tbody tr th:only-of-type {\n",
       "        vertical-align: middle;\n",
       "    }\n",
       "\n",
       "    .dataframe tbody tr th {\n",
       "        vertical-align: top;\n",
       "    }\n",
       "\n",
       "    .dataframe thead th {\n",
       "        text-align: right;\n",
       "    }\n",
       "</style>\n",
       "<table border=\"1\" class=\"dataframe\">\n",
       "  <thead>\n",
       "    <tr style=\"text-align: right;\">\n",
       "      <th></th>\n",
       "      <th>num_passengers</th>\n",
       "      <th>purchase_lead</th>\n",
       "      <th>length_of_stay</th>\n",
       "      <th>flight_hour</th>\n",
       "      <th>flight_day</th>\n",
       "      <th>wants_extra_baggage</th>\n",
       "      <th>wants_preferred_seat</th>\n",
       "      <th>wants_in_flight_meals</th>\n",
       "      <th>flight_duration</th>\n",
       "      <th>target</th>\n",
       "    </tr>\n",
       "  </thead>\n",
       "  <tbody>\n",
       "    <tr>\n",
       "      <th>0</th>\n",
       "      <td>0.400699</td>\n",
       "      <td>1.964934</td>\n",
       "      <td>-0.119386</td>\n",
       "      <td>-0.381721</td>\n",
       "      <td>1.096773</td>\n",
       "      <td>0.703609</td>\n",
       "      <td>-0.649993</td>\n",
       "      <td>-0.863477</td>\n",
       "      <td>-1.174125</td>\n",
       "      <td>0.0</td>\n",
       "    </tr>\n",
       "    <tr>\n",
       "      <th>1</th>\n",
       "      <td>-0.579520</td>\n",
       "      <td>0.301163</td>\n",
       "      <td>-0.089878</td>\n",
       "      <td>-1.120714</td>\n",
       "      <td>1.096773</td>\n",
       "      <td>-1.421244</td>\n",
       "      <td>-0.649993</td>\n",
       "      <td>-0.863477</td>\n",
       "      <td>-1.174125</td>\n",
       "      <td>0.0</td>\n",
       "    </tr>\n",
       "    <tr>\n",
       "      <th>2</th>\n",
       "      <td>0.400699</td>\n",
       "      <td>1.754190</td>\n",
       "      <td>-0.030863</td>\n",
       "      <td>1.465761</td>\n",
       "      <td>-0.408660</td>\n",
       "      <td>0.703609</td>\n",
       "      <td>1.538479</td>\n",
       "      <td>-0.863477</td>\n",
       "      <td>-1.174125</td>\n",
       "      <td>0.0</td>\n",
       "    </tr>\n",
       "    <tr>\n",
       "      <th>3</th>\n",
       "      <td>-0.579520</td>\n",
       "      <td>0.123694</td>\n",
       "      <td>0.234707</td>\n",
       "      <td>-0.935966</td>\n",
       "      <td>1.096773</td>\n",
       "      <td>-1.421244</td>\n",
       "      <td>-0.649993</td>\n",
       "      <td>1.158109</td>\n",
       "      <td>-1.174125</td>\n",
       "      <td>0.0</td>\n",
       "    </tr>\n",
       "    <tr>\n",
       "      <th>4</th>\n",
       "      <td>0.400699</td>\n",
       "      <td>-0.186876</td>\n",
       "      <td>-0.030863</td>\n",
       "      <td>1.096264</td>\n",
       "      <td>-0.408660</td>\n",
       "      <td>0.703609</td>\n",
       "      <td>-0.649993</td>\n",
       "      <td>1.158109</td>\n",
       "      <td>-1.174125</td>\n",
       "      <td>0.0</td>\n",
       "    </tr>\n",
       "  </tbody>\n",
       "</table>\n",
       "</div>"
      ],
      "text/plain": [
       "   num_passengers  purchase_lead  length_of_stay  flight_hour  flight_day  \\\n",
       "0        0.400699       1.964934       -0.119386    -0.381721    1.096773   \n",
       "1       -0.579520       0.301163       -0.089878    -1.120714    1.096773   \n",
       "2        0.400699       1.754190       -0.030863     1.465761   -0.408660   \n",
       "3       -0.579520       0.123694        0.234707    -0.935966    1.096773   \n",
       "4        0.400699      -0.186876       -0.030863     1.096264   -0.408660   \n",
       "\n",
       "   wants_extra_baggage  wants_preferred_seat  wants_in_flight_meals  \\\n",
       "0             0.703609             -0.649993              -0.863477   \n",
       "1            -1.421244             -0.649993              -0.863477   \n",
       "2             0.703609              1.538479              -0.863477   \n",
       "3            -1.421244             -0.649993               1.158109   \n",
       "4             0.703609             -0.649993               1.158109   \n",
       "\n",
       "   flight_duration  target  \n",
       "0        -1.174125     0.0  \n",
       "1        -1.174125     0.0  \n",
       "2        -1.174125     0.0  \n",
       "3        -1.174125     0.0  \n",
       "4        -1.174125     0.0  "
      ]
     },
     "execution_count": 48,
     "metadata": {},
     "output_type": "execute_result"
    }
   ],
   "source": [
    "# add the target back to the dataframe\n",
    "scaled_data['target']  = target\n",
    "scaled_data.head()"
   ]
  },
  {
   "cell_type": "code",
   "execution_count": 49,
   "id": "5c3079b6",
   "metadata": {},
   "outputs": [],
   "source": [
    "scaled_data = scaled_data.dropna()"
   ]
  },
  {
   "cell_type": "code",
   "execution_count": 50,
   "id": "a38ebb99",
   "metadata": {},
   "outputs": [],
   "source": [
    "# converting 'target' from float to int\n",
    "scaled_data['target'] = scaled_data['target'].astype(int)"
   ]
  },
  {
   "cell_type": "code",
   "execution_count": 51,
   "id": "8ca6cafb",
   "metadata": {},
   "outputs": [
    {
     "name": "stdout",
     "output_type": "stream",
     "text": [
      "0    42508\n",
      "1     7476\n",
      "Name: target, dtype: int64\n"
     ]
    },
    {
     "data": {
      "text/plain": [
       "<AxesSubplot:ylabel='target'>"
      ]
     },
     "execution_count": 51,
     "metadata": {},
     "output_type": "execute_result"
    },
    {
     "data": {
      "image/png": "[encoded data removed]",
      "text/plain": [
       "<Figure size 576x396 with 1 Axes>"
      ]
     },
     "metadata": {},
     "output_type": "display_data"
    }
   ],
   "source": [
    "d=scaled_data['target'].value_counts()\n",
    "print(d)\n",
    "sns.barplot(scaled_data['target'].unique(),scaled_data['target'].value_counts())"
   ]
  },
  {
   "cell_type": "markdown",
   "id": "aa468fa0",
   "metadata": {},
   "source": [
    "#### <font color='red' face='Cursive'>correlation matrix</font>"
   ]
  },
  {
   "cell_type": "code",
   "execution_count": 52,
   "id": "fb2725d6",
   "metadata": {},
   "outputs": [
    {
     "data": {
      "image/png": "[encoded data removed]",
      "text/plain": [
       "<Figure size 576x576 with 2 Axes>"
      ]
     },
     "metadata": {},
     "output_type": "display_data"
    }
   ],
   "source": [
    "# corelation matrix\n",
    "corr = scaled_data.corr()\n",
    "\n",
    "plt.figure(figsize=(8,8))\n",
    "\n",
    "#plot the heatmap\n",
    "sns.heatmap(corr)\n",
    "plt.show()"
   ]
  },
  {
   "cell_type": "markdown",
   "id": "691f8d2d",
   "metadata": {},
   "source": [
    "<font color = 'Magenta'> result: </font>\n",
    "- people who want meals on flight are related with people who has a preferred seat\n"
   ]
  },
  {
   "cell_type": "markdown",
   "id": "7daa99d5",
   "metadata": {},
   "source": [
    "#### <font color='red' face='Cursive'>feature selection</font>"
   ]
  },
  {
   "cell_type": "code",
   "execution_count": 53,
   "id": "bd31520a",
   "metadata": {},
   "outputs": [],
   "source": [
    "# input data\n",
    "x = scaled_data.drop('target',axis=1)"
   ]
  },
  {
   "cell_type": "code",
   "execution_count": 54,
   "id": "7e0f8438",
   "metadata": {},
   "outputs": [],
   "source": [
    "# output\n",
    "y = scaled_data['target']"
   ]
  },
  {
   "cell_type": "code",
   "execution_count": 55,
   "id": "81fadc9b",
   "metadata": {},
   "outputs": [
    {
     "name": "stdout",
     "output_type": "stream",
     "text": [
      "[0.05714608 0.29239721 0.21596046 0.20126495 0.10573462 0.00851515\n",
      " 0.01247405 0.00768774 0.09881975]\n"
     ]
    },
    {
     "data": {
      "image/png": "[encoded data removed]",
      "text/plain": [
       "<Figure size 576x396 with 1 Axes>"
      ]
     },
     "metadata": {},
     "output_type": "display_data"
    }
   ],
   "source": [
    "# feature selection\n",
    "from sklearn.ensemble import ExtraTreesClassifier\n",
    "model = ExtraTreesClassifier()\n",
    "model.fit(x,y)\n",
    "#use inbuilt class feature_importances of tree based classifiers\n",
    "print(model.feature_importances_)\n",
    "#plot graph of feature importances for better visualization\n",
    "feat_importances = pd.Series(model.feature_importances_, index=x.columns)\n",
    "feat_importances.sort_values(ascending=True).plot(kind='barh')\n",
    "plt.show()"
   ]
  },
  {
   "cell_type": "markdown",
   "id": "e8a057c6",
   "metadata": {},
   "source": [
    "<font color = 'Magenta'> result: </font> The most important features are purchase_lead , length_of_stay and flight_hour"
   ]
  },
  {
   "cell_type": "markdown",
   "id": "615ed258",
   "metadata": {},
   "source": [
    "#### <font color='red' face='Cursive'>Train test split</font>"
   ]
  },
  {
   "cell_type": "code",
   "execution_count": 56,
   "id": "35259e7a",
   "metadata": {},
   "outputs": [],
   "source": [
    "# train test split\n",
    "from sklearn.model_selection import train_test_split"
   ]
  },
  {
   "cell_type": "code",
   "execution_count": 57,
   "id": "ab971ba4",
   "metadata": {},
   "outputs": [],
   "source": [
    "x_train,x_test,y_train,y_test = train_test_split(x,y,test_size=0.2,random_state=42)"
   ]
  },
  {
   "cell_type": "code",
   "execution_count": 58,
   "id": "40913cee",
   "metadata": {},
   "outputs": [
    {
     "data": {
      "text/plain": [
       "((39987, 9), (9997, 9), (39987,), (9997,))"
      ]
     },
     "execution_count": 58,
     "metadata": {},
     "output_type": "execute_result"
    }
   ],
   "source": [
    "x_train.shape ,x_test.shape , y_train.shape , y_test.shape"
   ]
  },
  {
   "cell_type": "markdown",
   "id": "e2b2f869",
   "metadata": {},
   "source": [
    "#### <font color='red' face='Cursive'>model building</font>"
   ]
  },
  {
   "cell_type": "code",
   "execution_count": 59,
   "id": "785dc23b",
   "metadata": {},
   "outputs": [],
   "source": [
    "from sklearn.ensemble import RandomForestClassifier"
   ]
  },
  {
   "cell_type": "code",
   "execution_count": 60,
   "id": "929a909f",
   "metadata": {},
   "outputs": [
    {
     "data": {
      "text/html": [
       "<style>#sk-container-id-1 {color: black;}#sk-container-id-1 pre{padding: 0;}#sk-container-id-1 div.sk-toggleable {background-color: white;}#sk-container-id-1 label.sk-toggleable__label {cursor: pointer;display: block;width: 100%;margin-bottom: 0;padding: 0.3em;box-sizing: border-box;text-align: center;}#sk-container-id-1 label.sk-toggleable__label-arrow:before {content: \"▸\";float: left;margin-right: 0.25em;color: #696969;}#sk-container-id-1 label.sk-toggleable__label-arrow:hover:before {color: black;}#sk-container-id-1 div.sk-estimator:hover label.sk-toggleable__label-arrow:before {color: black;}#sk-container-id-1 div.sk-toggleable__content {max-height: 0;max-width: 0;overflow: hidden;text-align: left;background-color: #f0f8ff;}#sk-container-id-1 div.sk-toggleable__content pre {margin: 0.2em;color: black;border-radius: 0.25em;background-color: #f0f8ff;}#sk-container-id-1 input.sk-toggleable__control:checked~div.sk-toggleable__content {max-height: 200px;max-width: 100%;overflow: auto;}#sk-container-id-1 input.sk-toggleable__control:checked~label.sk-toggleable__label-arrow:before {content: \"▾\";}#sk-container-id-1 div.sk-estimator input.sk-toggleable__control:checked~label.sk-toggleable__label {background-color: #d4ebff;}#sk-container-id-1 div.sk-label input.sk-toggleable__control:checked~label.sk-toggleable__label {background-color: #d4ebff;}#sk-container-id-1 input.sk-hidden--visually {border: 0;clip: rect(1px 1px 1px 1px);clip: rect(1px, 1px, 1px, 1px);height: 1px;margin: -1px;overflow: hidden;padding: 0;position: absolute;width: 1px;}#sk-container-id-1 div.sk-estimator {font-family: monospace;background-color: #f0f8ff;border: 1px dotted black;border-radius: 0.25em;box-sizing: border-box;margin-bottom: 0.5em;}#sk-container-id-1 div.sk-estimator:hover {background-color: #d4ebff;}#sk-container-id-1 div.sk-parallel-item::after {content: \"\";width: 100%;border-bottom: 1px solid gray;flex-grow: 1;}#sk-container-id-1 div.sk-label:hover label.sk-toggleable__label {background-color: #d4ebff;}#sk-container-id-1 div.sk-serial::before {content: \"\";position: absolute;border-left: 1px solid gray;box-sizing: border-box;top: 0;bottom: 0;left: 50%;z-index: 0;}#sk-container-id-1 div.sk-serial {display: flex;flex-direction: column;align-items: center;background-color: white;padding-right: 0.2em;padding-left: 0.2em;position: relative;}#sk-container-id-1 div.sk-item {position: relative;z-index: 1;}#sk-container-id-1 div.sk-parallel {display: flex;align-items: stretch;justify-content: center;background-color: white;position: relative;}#sk-container-id-1 div.sk-item::before, #sk-container-id-1 div.sk-parallel-item::before {content: \"\";position: absolute;border-left: 1px solid gray;box-sizing: border-box;top: 0;bottom: 0;left: 50%;z-index: -1;}#sk-container-id-1 div.sk-parallel-item {display: flex;flex-direction: column;z-index: 1;position: relative;background-color: white;}#sk-container-id-1 div.sk-parallel-item:first-child::after {align-self: flex-end;width: 50%;}#sk-container-id-1 div.sk-parallel-item:last-child::after {align-self: flex-start;width: 50%;}#sk-container-id-1 div.sk-parallel-item:only-child::after {width: 0;}#sk-container-id-1 div.sk-dashed-wrapped {border: 1px dashed gray;margin: 0 0.4em 0.5em 0.4em;box-sizing: border-box;padding-bottom: 0.4em;background-color: white;}#sk-container-id-1 div.sk-label label {font-family: monospace;font-weight: bold;display: inline-block;line-height: 1.2em;}#sk-container-id-1 div.sk-label-container {text-align: center;}#sk-container-id-1 div.sk-container {/* jupyter's `normalize.less` sets `[hidden] { display: none; }` but bootstrap.min.css set `[hidden] { display: none !important; }` so we also need the `!important` here to be able to override the default hidden behavior on the sphinx rendered scikit-learn.org. See: https://github.com/scikit-learn/scikit-learn/issues/21755 */display: inline-block !important;position: relative;}#sk-container-id-1 div.sk-text-repr-fallback {display: none;}</style><div id=\"sk-container-id-1\" class=\"sk-top-container\"><div class=\"sk-text-repr-fallback\"><pre>RandomForestClassifier(max_depth=50, min_samples_split=5, n_estimators=10,\n",
       "                       random_state=42)</pre><b>In a Jupyter environment, please rerun this cell to show the HTML representation or trust the notebook. <br />On GitHub, the HTML representation is unable to render, please try loading this page with nbviewer.org.</b></div><div class=\"sk-container\" hidden><div class=\"sk-item\"><div class=\"sk-estimator sk-toggleable\"><input class=\"sk-toggleable__control sk-hidden--visually\" id=\"sk-estimator-id-1\" type=\"checkbox\" checked><label for=\"sk-estimator-id-1\" class=\"sk-toggleable__label sk-toggleable__label-arrow\">RandomForestClassifier</label><div class=\"sk-toggleable__content\"><pre>RandomForestClassifier(max_depth=50, min_samples_split=5, n_estimators=10,\n",
       "                       random_state=42)</pre></div></div></div></div></div>"
      ],
      "text/plain": [
       "RandomForestClassifier(max_depth=50, min_samples_split=5, n_estimators=10,\n",
       "                       random_state=42)"
      ]
     },
     "execution_count": 60,
     "metadata": {},
     "output_type": "execute_result"
    }
   ],
   "source": [
    "# random forest model creation\n",
    "rf_model = RandomForestClassifier(n_estimators=10 , max_depth =50 , min_samples_split=5,random_state=42)\n",
    "rf_model.fit(x_train,y_train)"
   ]
  },
  {
   "cell_type": "code",
   "execution_count": 61,
   "id": "10025e8a",
   "metadata": {},
   "outputs": [],
   "source": [
    "rf_preds = rf_model.predict(x_test)"
   ]
  },
  {
   "cell_type": "code",
   "execution_count": 63,
   "id": "b25a895d",
   "metadata": {},
   "outputs": [
    {
     "name": "stdout",
     "output_type": "stream",
     "text": [
      "ACCURACY:  83.91517455236571\n"
     ]
    }
   ],
   "source": [
    "print('ACCURACY: ',accuracy_score(y_test,rf_preds)*100)"
   ]
  },
  {
   "cell_type": "code",
   "execution_count": 65,
   "id": "35781e6c",
   "metadata": {},
   "outputs": [],
   "source": [
    "# Evaluation of model\n",
    "from sklearn.metrics import accuracy_score,confusion_matrix,classification_report"
   ]
  },
  {
   "cell_type": "code",
   "execution_count": 66,
   "id": "d0dd9d9e",
   "metadata": {},
   "outputs": [
    {
     "data": {
      "text/plain": [
       "array([[8341,  167],\n",
       "       [1441,   48]], dtype=int64)"
      ]
     },
     "execution_count": 66,
     "metadata": {},
     "output_type": "execute_result"
    }
   ],
   "source": [
    "m=confusion_matrix(y_test,rf_preds)\n",
    "m"
   ]
  },
  {
   "cell_type": "code",
   "execution_count": 68,
   "id": "29e8c5cc",
   "metadata": {},
   "outputs": [
    {
     "data": {
      "text/plain": [
       "<Figure size 1600x1100 with 0 Axes>"
      ]
     },
     "metadata": {},
     "output_type": "display_data"
    },
    {
     "data": {
      "image/png": "[encoded data removed]",
      "text/plain": [
       "<Figure size 576x396 with 2 Axes>"
      ]
     },
     "metadata": {},
     "output_type": "display_data"
    }
   ],
   "source": [
    "# confusion matrix\n",
    "from sklearn.metrics import ConfusionMatrixDisplay\n",
    "plt.figure(dpi=200)\n",
    "ConfusionMatrixDisplay.from_estimator(rf_model, x_test, y_test,cmap='Blues')\n",
    "plt.title('Confusion Matrix', fontsize=18)\n",
    "plt.show()"
   ]
  },
  {
   "cell_type": "code",
   "execution_count": 69,
   "id": "bc589f75",
   "metadata": {},
   "outputs": [
    {
     "name": "stdout",
     "output_type": "stream",
     "text": [
      "              precision    recall  f1-score   support\n",
      "\n",
      "           0       0.85      0.98      0.91      8508\n",
      "           1       0.22      0.03      0.06      1489\n",
      "\n",
      "    accuracy                           0.84      9997\n",
      "   macro avg       0.54      0.51      0.48      9997\n",
      "weighted avg       0.76      0.84      0.78      9997\n",
      "\n"
     ]
    }
   ],
   "source": [
    "print(classification_report(y_test,rf_preds))"
   ]
  },
  {
   "cell_type": "markdown",
   "id": "aecea520",
   "metadata": {},
   "source": [
    "<font color = 'Magenta'> result: </font>\n",
    "The model is giving good accuracy we will fit the complete data"
   ]
  },
  {
   "cell_type": "code",
   "execution_count": 70,
   "id": "91e268fe",
   "metadata": {},
   "outputs": [
    {
     "data": {
      "text/html": [
       "<style>#sk-container-id-2 {color: black;}#sk-container-id-2 pre{padding: 0;}#sk-container-id-2 div.sk-toggleable {background-color: white;}#sk-container-id-2 label.sk-toggleable__label {cursor: pointer;display: block;width: 100%;margin-bottom: 0;padding: 0.3em;box-sizing: border-box;text-align: center;}#sk-container-id-2 label.sk-toggleable__label-arrow:before {content: \"▸\";float: left;margin-right: 0.25em;color: #696969;}#sk-container-id-2 label.sk-toggleable__label-arrow:hover:before {color: black;}#sk-container-id-2 div.sk-estimator:hover label.sk-toggleable__label-arrow:before {color: black;}#sk-container-id-2 div.sk-toggleable__content {max-height: 0;max-width: 0;overflow: hidden;text-align: left;background-color: #f0f8ff;}#sk-container-id-2 div.sk-toggleable__content pre {margin: 0.2em;color: black;border-radius: 0.25em;background-color: #f0f8ff;}#sk-container-id-2 input.sk-toggleable__control:checked~div.sk-toggleable__content {max-height: 200px;max-width: 100%;overflow: auto;}#sk-container-id-2 input.sk-toggleable__control:checked~label.sk-toggleable__label-arrow:before {content: \"▾\";}#sk-container-id-2 div.sk-estimator input.sk-toggleable__control:checked~label.sk-toggleable__label {background-color: #d4ebff;}#sk-container-id-2 div.sk-label input.sk-toggleable__control:checked~label.sk-toggleable__label {background-color: #d4ebff;}#sk-container-id-2 input.sk-hidden--visually {border: 0;clip: rect(1px 1px 1px 1px);clip: rect(1px, 1px, 1px, 1px);height: 1px;margin: -1px;overflow: hidden;padding: 0;position: absolute;width: 1px;}#sk-container-id-2 div.sk-estimator {font-family: monospace;background-color: #f0f8ff;border: 1px dotted black;border-radius: 0.25em;box-sizing: border-box;margin-bottom: 0.5em;}#sk-container-id-2 div.sk-estimator:hover {background-color: #d4ebff;}#sk-container-id-2 div.sk-parallel-item::after {content: \"\";width: 100%;border-bottom: 1px solid gray;flex-grow: 1;}#sk-container-id-2 div.sk-label:hover label.sk-toggleable__label {background-color: #d4ebff;}#sk-container-id-2 div.sk-serial::before {content: \"\";position: absolute;border-left: 1px solid gray;box-sizing: border-box;top: 0;bottom: 0;left: 50%;z-index: 0;}#sk-container-id-2 div.sk-serial {display: flex;flex-direction: column;align-items: center;background-color: white;padding-right: 0.2em;padding-left: 0.2em;position: relative;}#sk-container-id-2 div.sk-item {position: relative;z-index: 1;}#sk-container-id-2 div.sk-parallel {display: flex;align-items: stretch;justify-content: center;background-color: white;position: relative;}#sk-container-id-2 div.sk-item::before, #sk-container-id-2 div.sk-parallel-item::before {content: \"\";position: absolute;border-left: 1px solid gray;box-sizing: border-box;top: 0;bottom: 0;left: 50%;z-index: -1;}#sk-container-id-2 div.sk-parallel-item {display: flex;flex-direction: column;z-index: 1;position: relative;background-color: white;}#sk-container-id-2 div.sk-parallel-item:first-child::after {align-self: flex-end;width: 50%;}#sk-container-id-2 div.sk-parallel-item:last-child::after {align-self: flex-start;width: 50%;}#sk-container-id-2 div.sk-parallel-item:only-child::after {width: 0;}#sk-container-id-2 div.sk-dashed-wrapped {border: 1px dashed gray;margin: 0 0.4em 0.5em 0.4em;box-sizing: border-box;padding-bottom: 0.4em;background-color: white;}#sk-container-id-2 div.sk-label label {font-family: monospace;font-weight: bold;display: inline-block;line-height: 1.2em;}#sk-container-id-2 div.sk-label-container {text-align: center;}#sk-container-id-2 div.sk-container {/* jupyter's `normalize.less` sets `[hidden] { display: none; }` but bootstrap.min.css set `[hidden] { display: none !important; }` so we also need the `!important` here to be able to override the default hidden behavior on the sphinx rendered scikit-learn.org. See: https://github.com/scikit-learn/scikit-learn/issues/21755 */display: inline-block !important;position: relative;}#sk-container-id-2 div.sk-text-repr-fallback {display: none;}</style><div id=\"sk-container-id-2\" class=\"sk-top-container\"><div class=\"sk-text-repr-fallback\"><pre>RandomForestClassifier(max_depth=50, min_samples_split=5, n_estimators=10,\n",
       "                       random_state=42)</pre><b>In a Jupyter environment, please rerun this cell to show the HTML representation or trust the notebook. <br />On GitHub, the HTML representation is unable to render, please try loading this page with nbviewer.org.</b></div><div class=\"sk-container\" hidden><div class=\"sk-item\"><div class=\"sk-estimator sk-toggleable\"><input class=\"sk-toggleable__control sk-hidden--visually\" id=\"sk-estimator-id-2\" type=\"checkbox\" checked><label for=\"sk-estimator-id-2\" class=\"sk-toggleable__label sk-toggleable__label-arrow\">RandomForestClassifier</label><div class=\"sk-toggleable__content\"><pre>RandomForestClassifier(max_depth=50, min_samples_split=5, n_estimators=10,\n",
       "                       random_state=42)</pre></div></div></div></div></div>"
      ],
      "text/plain": [
       "RandomForestClassifier(max_depth=50, min_samples_split=5, n_estimators=10,\n",
       "                       random_state=42)"
      ]
     },
     "execution_count": 70,
     "metadata": {},
     "output_type": "execute_result"
    }
   ],
   "source": [
    "# random forest final model\n",
    "rf_model_final = RandomForestClassifier(n_estimators=10 , max_depth =50 , min_samples_split=5,random_state=42)\n",
    "rf_model_final.fit(x,y)"
   ]
  },
  {
   "cell_type": "code",
   "execution_count": null,
   "id": "5c8ac0df",
   "metadata": {},
   "outputs": [],
   "source": []
  },
  {
   "cell_type": "code",
   "execution_count": null,
   "id": "13c997e4",
   "metadata": {},
   "outputs": [],
   "source": []
  },
  {
   "cell_type": "code",
   "execution_count": null,
   "id": "2333f2c9",
   "metadata": {},
   "outputs": [],
   "source": []
  },
  {
   "cell_type": "code",
   "execution_count": null,
   "id": "d855c9e7",
   "metadata": {},
   "outputs": [],
   "source": []
  },
  {
   "cell_type": "code",
   "execution_count": null,
   "id": "b2b05125",
   "metadata": {},
   "outputs": [],
   "source": []
  }
 ],
 "metadata": {
  "kernelspec": {
   "display_name": "Python 3",
   "language": "python",
   "name": "python3"
  },
  "language_info": {
   "codemirror_mode": {
    "name": "ipython",
    "version": 3
   },
   "file_extension": ".py",
   "mimetype": "text/x-python",
   "name": "python",
   "nbconvert_exporter": "python",
   "pygments_lexer": "ipython3",
   "version": "3.8.8"
  }
 },
 "nbformat": 4,
 "nbformat_minor": 5
}
